{
 "cells": [
  {
   "cell_type": "markdown",
   "id": "2685065b",
   "metadata": {},
   "source": [
    "# Exercise 1\n",
    "* Due: 22.1. at 14:00\n",
    "* Max points: 4"
   ]
  },
  {
   "cell_type": "markdown",
   "id": "7a901e31",
   "metadata": {},
   "source": [
    "## General rules\n",
    "* **Submit your answers by using Moodle.** The link is <a href=\"https://moodle.jyu.fi/course/view.php?id=26922&section=2\">https://moodle.jyu.fi/course/view.php?id=26922&section=2</a>.\n",
    "* Name your file as *lastname_ex1.xxx*. If you have multiple files, use *lastname_ex1_1.xxx, lastname_ex1_2.xxx* etc.\n",
    "* **Remember to add comments to your answers and include also some testing part!**\n",
    "* The exercises will be given on the previous Wednesday's lecture"
   ]
  },
  {
   "cell_type": "markdown",
   "id": "869e9331",
   "metadata": {},
   "source": [
    "## Exercises\n",
    "1. **(2 points)** Implement (on Python) a function that calculates a **continuous** approximation of the grade of this course (grading rules given in the first lecture). That is, the function takes as input the number of points received in the course and the maximal number of points and gives as output a value so that the integer part of that is the grade. \n",
    "\n",
    "    *For example, output would be of maximal points 20 and 13 points, could be 2.5, and, thus, the grade is 2. Note that you can make the function linear. Add also checking for incorrect input.*\n",
    "      \n",
    "\n",
    "2. **(2 points)** Make a script that finds the minimum number of points that gives a given grade. That is, your script should take as input the maximal number of points and the desired grade. Your solution **has to call** the function defined in task 1 above.  Add also checking for incorrect input."
   ]
  }
 ],
 "metadata": {
  "kernelspec": {
   "display_name": "Python 3",
   "language": "python",
   "name": "python3"
  },
  "language_info": {
   "codemirror_mode": {
    "name": "ipython",
    "version": 3
   },
   "file_extension": ".py",
   "mimetype": "text/x-python",
   "name": "python",
   "nbconvert_exporter": "python",
   "pygments_lexer": "ipython3",
   "version": "3.8.8"
  }
 },
 "nbformat": 4,
 "nbformat_minor": 5
}
