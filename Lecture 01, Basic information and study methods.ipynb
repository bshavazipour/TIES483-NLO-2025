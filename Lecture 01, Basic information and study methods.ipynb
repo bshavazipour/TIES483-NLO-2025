{
 "cells": [
  {
   "cell_type": "code",
   "execution_count": 2,
   "metadata": {
    "scrolled": true,
    "slideshow": {
     "slide_type": "subslide"
    }
   },
   "outputs": [
    {
     "data": {
      "text/html": [
       "<style>.container { width:85% !important; }</style>"
      ],
      "text/plain": [
       "<IPython.core.display.HTML object>"
      ]
     },
     "execution_count": 2,
     "metadata": {},
     "output_type": "execute_result"
    }
   ],
   "source": [
    "from IPython.core.display import HTML\n",
    "HTML(\"<style>.container { width:85% !important; }</style>\")"
   ]
  },
  {
   "cell_type": "markdown",
   "metadata": {
    "nbpresent": {
     "id": "3ebef004-761e-4491-8a3b-b11771793aed"
    },
    "slideshow": {
     "slide_type": "slide"
    }
   },
   "source": [
    "# TIES483 Nonlinear optimization\n",
    "* 5 credits\n",
    "* First Spring Term 2025\n",
    "* Academy Research Fellow Babooshka Shavazipour (babooshka.b.shavazipour@jyu.fi)\n",
    "\n",
    "## General information\n",
    "Level: Master-level course in mathematical information technology (*Tietotekniikka in Finnish*). Semi-mandatory course for MSc studies in computational sciences."
   ]
  },
  {
   "cell_type": "markdown",
   "metadata": {
    "nbpresent": {
     "id": "6463004f-4fea-4609-af0b-5419087d79eb"
    },
    "slideshow": {
     "slide_type": "slide"
    }
   },
   "source": [
    "## Contents \n",
    "Optimization of functions of a single variable (line search). Optimization of functions with several variables with and without constraints. Optimality conditions. Software for nonlinear optimization. Some applications of optimization. Introduton to multi-ojctive optimization and uncetainty handling.\n",
    "\n",
    "This course deals with methods that mostly can be classified as\n",
    "* local optimization methods, which converge to the nearest local optimum\n",
    "* point-by-point, i.e., non-population based (population based methods are taught on *TIES451 Selected topics in soft computing*)\n",
    "* single-objective (more multiobjective is taught on *TIES598 Nonlinear Multiobjective Optimization*)\n",
    "* based on a continuous mathematical model of the phenomena (data-based optimization aka *prescriptive analytics* is taught on *TIES5830 Data-driven optimization and decision making*)"
   ]
  },
  {
   "cell_type": "markdown",
   "metadata": {
    "slideshow": {
     "slide_type": "subslide"
    }
   },
   "source": [
    "## Prerequisites \n",
    "\n",
    "* Basic knowledge of optimization (e.g., course TIEA382 Linear and discrete optimization) and numerical methods, as well as basic programming skills.\n",
    "* Basic knowledge of mathematical analysis of functions of multiple variables.\n",
    "\n",
    "## Teaching\n",
    "* Lectures (<i>in English</i>): 32 h, Mon 12-14 (Agora) and 14-16 (Agora), 13.1.-12.3.2025 (Check out the classrooms every time as there are various rooms).\n",
    "\n",
    "* Demos: 12h, Thu 14-16 in Agora, 23.1.-6.3.2025 (Check out the classrooms every time as there are various rooms).\n",
    "\n",
    "\n",
    "**If possible, please bring your laptops to lectures and demos, as we may have some exercises during the classes.**\n"
   ]
  },
  {
   "cell_type": "markdown",
   "metadata": {
    "nbpresent": {
     "id": "5b7e358a-501f-4672-8bf6-5c18c2561d73"
    },
    "slideshow": {
     "slide_type": "subslide"
    }
   },
   "source": [
    "## Passing the course\n",
    "During this course you will be given\n",
    "* a number of excercises (one each week) and\n",
    "* one slightly bigger assignment towards the end of the course.\n",
    "\n",
    "Weekly exercises will comprise **70%** of the points, and the final assignment will comprise **30%** of the points. However, returning the final assignment is mandatory. We will use the following grading:\n",
    "* 90% or more of the points -> grade 5,\n",
    "* 80% or more of the points -> grade 4,\n",
    "* 70% or more of the points -> grade 3,\n",
    "* 60% or more of the points -> grade 2,\n",
    "* 50% or more of the points -> grade 1, and\n",
    "* Less than 50% of the points -> failed."
   ]
  },
  {
   "cell_type": "markdown",
   "metadata": {
    "slideshow": {
     "slide_type": "subslide"
    }
   },
   "source": [
    "## How demanding the course is?\n",
    "5 credits → 5*26 = 130 hours of work\n",
    "* Lectures: 16*2 = 32 hours\n",
    "* DEMO/exercise sessions: 6*2 = 12 hours\n",
    "* Self study (doing exercises, assignment, studying): 130 - 32 – 12 = 86 hours"
   ]
  },
  {
   "cell_type": "markdown",
   "metadata": {
    "nbpresent": {
     "id": "69275509-01ad-45a0-a175-c9752b80c920"
    },
    "slideshow": {
     "slide_type": "slide"
    }
   },
   "source": [
    "## Course plan (tentative)\n",
    "\n",
    "**Introduction**\n",
    "*   Lecture 1. Basic information about the course and study methods (Python, Jupyter etc.)\n",
    "*   Lecture 2. The very basics: what is an optimization problem, how to solve one, and line search\n",
    "\n",
    "**Unconstrained optimization**\n",
    "\n",
    "*   Lecture 3. Direct search methods: Hooke&Jeeves and Powell's methods \n",
    "*   Lecture 4. Steepest Descent and Newton's method for unrestricted optimization\n",
    "*   Lecture 5. Example of using available software: scipy.optimize\n",
    "    \n",
    "**Constrained optimization**\n",
    "*   Lecture 6. Indirect methods for constrained optimization\n",
    "*   Lecture 7. Direct methods for constrained optimization\n",
    "*   Lecture 8. Optimality conditions\n",
    "*   Lecture 9. Methods using optimality conditions for constrained optimization\n",
    "\n"
   ]
  },
  {
   "cell_type": "markdown",
   "metadata": {
    "slideshow": {
     "slide_type": "subslide"
    }
   },
   "source": [
    "## Course plan (tentative)\n",
    "\n",
    "**Multiobjective optimization**\n",
    "*   Lecture 10. What is multiobjective optimization\n",
    "*   Lecture 11. How to solve multiobjective optimization problems, part I\n",
    "*   Lecture 12. How to solve multiobjective optimization problems, part II\n",
    "    \n",
    "**Decision making under uncertainty**\n",
    "*   Lecture 13. Decision making under uncertainty - part 1\n",
    "*   Lecture 14. Decision making under uncertainty - part 2\n",
    "    \n",
    "**Wrapping up**\n",
    "*   Lecture 15. Further topics and current research in optimization\n",
    "*   Lecture 16. Review\n",
    "\n",
    "** **\n",
    "\n",
    "* I will update the topics, if needed, based on the progress. \n",
    "* You can also find the updates at https://moodle.jyu.fi/course/view.php?id=31251&section=0 \n"
   ]
  },
  {
   "cell_type": "markdown",
   "metadata": {
    "slideshow": {
     "slide_type": "subslide"
    }
   },
   "source": [
    "# Learning outcomes\n",
    "* Recognize and solve different types of optimization problems\n",
    "* Understand the basic approaches in solving nonlinear optimization problems \n",
    "* Recognize optimality conditions for unconstrained and constrained problems and learn how to apply them to verify optimality of a solution\n",
    "* Understand the basics of choosing and implementing optimization methods\n",
    "* Learn how to search and apply optimization software in order to solve nonlinear optimization problems\n",
    "* Understand differences in solving convex and non-convex optimization problems \n",
    "* Recognize basic ideas of solving multiobjective optimization problems\n",
    "* Understand the complexity of decision-making under uncertainty "
   ]
  },
  {
   "cell_type": "markdown",
   "metadata": {
    "slideshow": {
     "slide_type": "slide"
    }
   },
   "source": [
    "# Let’s introduce ourselves\n",
    "* Who are you and what are you studying?\n",
    "* Master or PhD student?\n",
    "* Previous experiences of optimization?\n",
    "* Programming experiences?\n",
    "* How is this course related to your studies/research?\n",
    "* What are your expectations about this course?\n"
   ]
  },
  {
   "cell_type": "markdown",
   "metadata": {
    "nbpresent": {
     "id": "98978692-19ba-4b26-b478-483bb7c5cc48"
    },
    "slideshow": {
     "slide_type": "slide"
    }
   },
   "source": [
    "## Study methods\n",
    "\n",
    "### Python and Jupyter\n",
    "Courtesy of Jussi Hakanen & Markus Hartikainen\n",
    "\n",
    "\n",
    "As the programming language, Python 3, is used in this course. The course is taught using Jupyter Notebooks (http://ipython.org/notebook.html, formerly known as IPython notebooks). \n",
    "\n",
    "You can study the basics of Python from, e.g., https://github.com/jrjohansson/scientific-python-lectures (at least lectures 0-2) if you are not familiar with Python.\n",
    "\n",
    "### Github \n",
    " * The source code of the Jupyter Notebooks taught in this course will be available on GitHub https://github.com/bshavazipour/TIES483-NLO-2025\n",
    "\n",
    "### Moodle\n",
    "* The source code of the Jupyter Notebooks taught in this course will be available at Moodle as well.\n",
    "\n",
    "* Your answers to the weekly exercises and the assignment during the course are submitted to Moodle (https://moodle.jyu.fi/course/view.php?id=31251&section=0). You will also get the grades/feedback there.\n",
    "\n",
    "### Mailing list\n",
    "The mailing list ties483.NLO2025@maillists.jyu.fi is used to distribute information. The students **cannot** send emails through the mailing list. \n"
   ]
  },
  {
   "cell_type": "markdown",
   "metadata": {
    "slideshow": {
     "slide_type": "subslide"
    }
   },
   "source": [
    "## Livereveal\n",
    "The Jupyter notebooks will be transferred to slides using https://github.com/damianavila/RISE. To view the contents at home, you do not need to have this installed.\n",
    "## How to get scroll bar to slides?\n",
    "After installing rise (https://github.com/damianavila/RISE)\n",
    "* restart the notebook, and you should get a scroll bar; if not, try the following:\n",
    "* go to \"Python installation dir\"\\share\\jupyter\\nbextensions\\rise \n",
    "* open main.js (with some text editor) \n",
    "* replace 'scroll: false' with 'scroll: true' \n",
    "* restart the notebook and you should get a scroll bar"
   ]
  },
  {
   "cell_type": "markdown",
   "metadata": {
    "nbpresent": {
     "id": "95ae669d-bb58-48bd-840a-4b3b4d350215"
    },
    "slideshow": {
     "slide_type": "subslide"
    }
   },
   "source": [
    "### Getting started\n",
    "### Option 1 \n",
    "1. Install on a laptop or desktop that you control,\n",
    "    * Python and Jupyter  (see e.g., https://github.com/jrjohansson/scientific-python-lectures/blob/master/Lecture-0-Scientific-Computing-with-Python.ipynb.\n",
    "    * Git (see e.g., https://git-scm.com/book/en/v2/Getting-Started-Installing-Git)\n",
    "\n",
    "2. Clone the repository on your machine using command\n",
    "```\n",
    "$ git clone https://github.com/bshavazipour/TIES483-NLO-2025.git\n",
    "```\n",
    "3. Start Jupyter in the path of the repository\n",
    "\n",
    "4. Start learning!\n",
    "\n",
    "Always when the source has changed in Github, you need to do\n",
    "```\n",
    "$ git fetch --all\n",
    "$ git reset --hard origin/master\n",
    "```\n",
    "This will overwrite all the changes that have been made to the materials and get the latest one.\n"
   ]
  },
  {
   "cell_type": "markdown",
   "metadata": {
    "slideshow": {
     "slide_type": "subslide"
    }
   },
   "source": [
    "### Option 2\n",
    "1. Install a programming or scripting language that you prefer or use one already available on a computer that you have access to\n",
    "2. Follow the lectures from the Github page at https://github.com/bshavazipour/TIES483-NLO-2025\n",
    "3. Do exercises using your preferred language\n",
    "4. Keep on learning!\n"
   ]
  },
  {
   "cell_type": "markdown",
   "metadata": {
    "slideshow": {
     "slide_type": "slide"
    }
   },
   "source": [
    "# Some examples of optimization problems\n",
    "* *Use a couple of minutes to think about examples of optimization problems. Then we list what you have found.*\n"
   ]
  },
  {
   "cell_type": "markdown",
   "metadata": {
    "slideshow": {
     "slide_type": "subslide"
    }
   },
   "source": [
    "*Examples from students*\n"
   ]
  },
  {
   "cell_type": "markdown",
   "metadata": {
    "slideshow": {
     "slide_type": "subslide"
    }
   },
   "source": [
    "## Scheduling \n",
    "* Courses in a curriculum\n",
    "* Shifts for nurses\n",
    "* Arrival and departure times for airplanes in an airport\n",
    "* ...\n",
    "\n",
    "*\"Find an optimal order for the events/objects\". Discrete problem, not in a core of this course*"
   ]
  },
  {
   "cell_type": "markdown",
   "metadata": {
    "slideshow": {
     "slide_type": "subslide"
    }
   },
   "source": [
    "## Route planning \n",
    "* Shortest/fastest route from place A to B\n",
    "    * Navigation\n",
    "* Travelling salesman problem: find a route from a starting place and back while visiting a given number of places exactly once. \n",
    "    * Delivery, trash pickup, snow plowing, ...\n",
    "\n",
    "*\"Find an optimal route\". Discrete problem, not in a core of this course*"
   ]
  },
  {
   "cell_type": "markdown",
   "metadata": {
    "slideshow": {
     "slide_type": "subslide"
    }
   },
   "source": [
    "## Training of machine learning algorithms\n",
    "* Machine learning algorithms need to be trained with a training data.\n",
    "* An optimization problem where the parameters values of the models (e.g., weights in a neural network) need to be set according to the problem studied.\n",
    "\n",
    "*\"Find optimal values for the parameters of a machine learning model based on a given training data\". Typically a nonlinear optimization problem.*"
   ]
  },
  {
   "cell_type": "markdown",
   "metadata": {
    "slideshow": {
     "slide_type": "subslide"
    }
   },
   "source": [
    "## Design optimization\n",
    "* Optimal design of a bridge, a building, a hydraulic pump, an aircraft, a paper machine, ...\n",
    "* A numerical simulation model based on physics is created to simulate features of the problem (fluid flow, magnetics, acoustics, heat transfer, vibration etc.).\n",
    "* By varying inputs of the simulation model, different behaviour can be observed.\n",
    "\n",
    "*\"Find optimal values for those parameters based on an objective function that is formulated from the output of the simulation model.\". Typically a nonlinear optimization problem.*"
   ]
  },
  {
   "cell_type": "markdown",
   "metadata": {
    "nbpresent": {
     "id": "bc10fc70-cf30-497e-b971-79c4cc113d91"
    },
    "slideshow": {
     "slide_type": "slide"
    }
   },
   "source": [
    "# Additional stuff\n",
    "## Some nonlinear optimization literature\n",
    "* Juha Haataja, \"Optimointitehtävien ratkaiseminen (in Finnish)\", CSC:n oppaat, 2004\n",
    "* Fletcher: \"Practical Methods of Optimization\", 1980, Vol. 1 & 2\n",
    "* Gill, Murray & Wright: \"Practical Optimization\", 1981\n",
    "* Luenberger: \"Linear and Nonlinear Programming\", 1984\n",
    "* Bazaraa, Sherali & Shetty: \"Nonlinear Programming: Theory and Algorithms\", 1993 \n",
    "* Bertsekas: \"Nonlinear Programming\", 1995\n",
    "* Nocedal & Wright: \"Numerical Optimization\", 1999 \n",
    "* Biegler: \"Nonlinear Programming: Concepts, Algorithms, and Applications to Chemical Processes\", 2010\n",
    "* Bierlaire: \"Optimization: Principles and Algorithms\"\n",
    "* Hinze, Pinnau, Ulbrich & Ulbrich: \"Optimization with PDE Constraints\", 2009\n",
    "* Conn, Scheinberg & Vicente: \"Introduction to Derivative-Free Optimization\", 2009\n",
    "* Talbi: \"Metaheuristics - From Design to Implementation\", 2009\n"
   ]
  },
  {
   "cell_type": "markdown",
   "metadata": {
    "nbpresent": {
     "id": "2c42da48-04d5-46a6-a977-688156361873"
    },
    "slideshow": {
     "slide_type": "subslide"
    }
   },
   "source": [
    "## (Usefull) links\n",
    "\n",
    "* <a href=\"http://glossary.computing.society.informs.org/\">Mathematical Programming Glossary </a><br>\n",
    "* <a href=\"http://www.mit.jyu.fi/optgroup/\">Multiobjective Optimization Group (JYU)</a><br>\n",
    "* <a href=\"http://plato.asu.edu/guide.html\">Decision Tree for Optimization Software</a><br>\n",
    "* <a href=\"http://www.neos-guide.org/Optimization-Guide\">NEOS Guide: Optimization Software</a>\n",
    "* <a href=\"http://www.mathopt.org/\">Mathematical Optimization Society</a><br>      \n",
    "* <a href=\"http://www.mcdmsociety.org/\">International Society on Multiple Criteria Decision Making </a>\n",
    "* <a href=\"http://www.operaatiotutkimus.fi/\">Finnish operations research society (FORS)</a><br>"
   ]
  },
  {
   "cell_type": "code",
   "execution_count": null,
   "metadata": {
    "slideshow": {
     "slide_type": "skip"
    }
   },
   "outputs": [
    {
     "name": "stdout",
     "output_type": "stream",
     "text": [
      "[NbConvertApp] Converting notebook Lecture 01, Basic information and study methods.ipynb to slides\n",
      "[NbConvertApp] Writing 294304 bytes to Lecture 01, Basic information and study methods.slides.html\n",
      "[NbConvertApp] Redirecting reveal.js requests to https://cdnjs.cloudflare.com/ajax/libs/reveal.js/3.5.0\n",
      "Serving your slides at http://127.0.0.1:8000/Lecture 01, Basic information and study methods.slides.html\n",
      "Use Control-C to stop this server\n",
      "404 GET /favicon.ico (127.0.0.1) 0.92ms\n"
     ]
    }
   ],
   "source": [
    "!jupyter nbconvert 'Lecture 01, Basic information and study methods.ipynb' --to slides --post serve"
   ]
  },
  {
   "cell_type": "code",
   "execution_count": null,
   "metadata": {},
   "outputs": [],
   "source": []
  }
 ],
 "metadata": {
  "anaconda-cloud": {},
  "celltoolbar": "Slideshow",
  "kernelspec": {
   "display_name": "Python [conda env:base] *",
   "language": "python",
   "name": "conda-base-py"
  },
  "language_info": {
   "codemirror_mode": {
    "name": "ipython",
    "version": 3
   },
   "file_extension": ".py",
   "mimetype": "text/x-python",
   "name": "python",
   "nbconvert_exporter": "python",
   "pygments_lexer": "ipython3",
   "version": "3.12.7"
  },
  "nbpresent": {
   "slides": {
    "1a7c918d-419e-45d4-b0cf-3730c354796a": {
     "id": "1a7c918d-419e-45d4-b0cf-3730c354796a",
     "prev": null,
     "regions": {
      "1e88f3c3-0172-4514-a274-c83985d7d54e": {
       "attrs": {
        "height": 0.8,
        "width": 0.8,
        "x": 0.1,
        "y": 0.1
       },
       "content": {
        "cell": "3ebef004-761e-4491-8a3b-b11771793aed",
        "part": "whole"
       },
       "id": "1e88f3c3-0172-4514-a274-c83985d7d54e"
      }
     }
    },
    "20c62738-1815-423d-8d6b-b3895b413252": {
     "id": "20c62738-1815-423d-8d6b-b3895b413252",
     "prev": "e821d758-b8e3-4810-9c86-f7dba48ea44f",
     "regions": {
      "04ea9185-c294-4d73-9075-6a84e6d4bf37": {
       "attrs": {
        "height": 0.8,
        "width": 0.8,
        "x": 0.1,
        "y": 0.1
       },
       "content": {
        "cell": "98978692-19ba-4b26-b478-483bb7c5cc48",
        "part": "whole"
       },
       "id": "04ea9185-c294-4d73-9075-6a84e6d4bf37"
      }
     }
    },
    "33eccf56-1783-427b-9b06-74f061622d15": {
     "id": "33eccf56-1783-427b-9b06-74f061622d15",
     "prev": "856ff929-53d3-4253-9400-64c461779a40",
     "regions": {
      "74ac350e-35b4-4a13-b696-e979d757dac0": {
       "attrs": {
        "height": 0.8,
        "width": 0.8,
        "x": 0.1,
        "y": 0.1
       },
       "content": {
        "cell": "e65f99d4-a6d7-41c0-a57f-1e9c04eb9eab",
        "part": "whole"
       },
       "id": "74ac350e-35b4-4a13-b696-e979d757dac0"
      }
     }
    },
    "3ac22824-2518-47d6-b72e-9fa0201df0fa": {
     "id": "3ac22824-2518-47d6-b72e-9fa0201df0fa",
     "prev": "f48e20a2-d579-43ea-9a9e-7ee39d6a63a4",
     "regions": {
      "3da8f814-33da-4dc0-9169-0eaf60506b15": {
       "attrs": {
        "height": 0.8,
        "width": 0.8,
        "x": 0.1,
        "y": 0.1
       },
       "content": {
        "cell": "28eb9d97-ded7-487e-b7e5-a6e2b27469db",
        "part": "whole"
       },
       "id": "3da8f814-33da-4dc0-9169-0eaf60506b15"
      }
     }
    },
    "856ff929-53d3-4253-9400-64c461779a40": {
     "id": "856ff929-53d3-4253-9400-64c461779a40",
     "prev": "cb885d53-ed8c-44d8-9d59-68d1058d3035",
     "regions": {
      "847a48a2-2051-435b-a0c7-dab7be542901": {
       "attrs": {
        "height": 0.8,
        "width": 0.8,
        "x": 0.1,
        "y": 0.1
       },
       "content": {
        "cell": "76e37d4c-6b73-4832-bbda-81912f9dc79f",
        "part": "whole"
       },
       "id": "847a48a2-2051-435b-a0c7-dab7be542901"
      }
     }
    },
    "90750282-3773-449b-b922-56a820a29a1b": {
     "id": "90750282-3773-449b-b922-56a820a29a1b",
     "prev": "1a7c918d-419e-45d4-b0cf-3730c354796a",
     "regions": {
      "3b401ae0-1846-4215-af56-afb7a11968b6": {
       "attrs": {
        "height": 0.8,
        "width": 0.8,
        "x": 0.1,
        "y": 0.1
       },
       "content": {
        "cell": "6463004f-4fea-4609-af0b-5419087d79eb",
        "part": "whole"
       },
       "id": "3b401ae0-1846-4215-af56-afb7a11968b6"
      }
     }
    },
    "9a0c7814-fc3a-4dde-a337-ee5c788f0819": {
     "id": "9a0c7814-fc3a-4dde-a337-ee5c788f0819",
     "prev": "3ac22824-2518-47d6-b72e-9fa0201df0fa",
     "regions": {
      "f209c311-7007-4bb7-9715-737e062008ef": {
       "attrs": {
        "height": 0.8,
        "width": 0.8,
        "x": 0.1,
        "y": 0.1
       },
       "content": {
        "cell": "bc10fc70-cf30-497e-b971-79c4cc113d91",
        "part": "whole"
       },
       "id": "f209c311-7007-4bb7-9715-737e062008ef"
      }
     }
    },
    "aa4b55f4-fa34-424c-b010-cba66146bf64": {
     "id": "aa4b55f4-fa34-424c-b010-cba66146bf64",
     "prev": "90750282-3773-449b-b922-56a820a29a1b",
     "regions": {
      "7b163985-54f6-4352-8f4a-ef92b2879fd3": {
       "attrs": {
        "height": 0.8,
        "width": 0.8,
        "x": 0.1,
        "y": 0.1
       },
       "content": {
        "cell": "5b7e358a-501f-4672-8bf6-5c18c2561d73",
        "part": "whole"
       },
       "id": "7b163985-54f6-4352-8f4a-ef92b2879fd3"
      }
     }
    },
    "cb885d53-ed8c-44d8-9d59-68d1058d3035": {
     "id": "cb885d53-ed8c-44d8-9d59-68d1058d3035",
     "prev": "9a0c7814-fc3a-4dde-a337-ee5c788f0819",
     "regions": {
      "bb0f6ea8-65aa-432c-b52e-680ba6ae15e2": {
       "attrs": {
        "height": 0.8,
        "width": 0.8,
        "x": 0.1,
        "y": 0.1
       },
       "content": {
        "cell": "2c42da48-04d5-46a6-a977-688156361873",
        "part": "whole"
       },
       "id": "bb0f6ea8-65aa-432c-b52e-680ba6ae15e2"
      }
     }
    },
    "e821d758-b8e3-4810-9c86-f7dba48ea44f": {
     "id": "e821d758-b8e3-4810-9c86-f7dba48ea44f",
     "prev": "aa4b55f4-fa34-424c-b010-cba66146bf64",
     "regions": {
      "4471edba-de6b-413f-a560-53384d31bcb8": {
       "attrs": {
        "height": 0.8,
        "width": 0.8,
        "x": 0.1,
        "y": 0.1
       },
       "content": {
        "cell": "69275509-01ad-45a0-a175-c9752b80c920",
        "part": "whole"
       },
       "id": "4471edba-de6b-413f-a560-53384d31bcb8"
      }
     }
    },
    "f48e20a2-d579-43ea-9a9e-7ee39d6a63a4": {
     "id": "f48e20a2-d579-43ea-9a9e-7ee39d6a63a4",
     "prev": "20c62738-1815-423d-8d6b-b3895b413252",
     "regions": {
      "42a33666-1dcd-4546-8480-4ef8e198c45b": {
       "attrs": {
        "height": 0.8,
        "width": 0.8,
        "x": 0.1,
        "y": 0.1
       },
       "content": {
        "cell": "95ae669d-bb58-48bd-840a-4b3b4d350215",
        "part": "whole"
       },
       "id": "42a33666-1dcd-4546-8480-4ef8e198c45b"
      }
     }
    }
   },
   "themes": {}
  },
  "panel-cell-order": [
   "9284e683",
   "14af816b",
   "1653c92e",
   "eabf58e8",
   "7d5480d2",
   "6d218fe1",
   "a083350e",
   "6b8e1ac1",
   "6afd68e2",
   "ab4bf25d",
   "95604597",
   "bf045de9",
   "ee9f39c1",
   "662ce686",
   "4946a243",
   "fe3415ed",
   "37164070",
   "327ae620",
   "8a7d5cbb",
   "fafbf3ef",
   "fc82534d"
  ]
 },
 "nbformat": 4,
 "nbformat_minor": 4
}
