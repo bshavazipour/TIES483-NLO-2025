{
 "cells": [
  {
   "cell_type": "markdown",
   "metadata": {
    "slideshow": {
     "slide_type": "slide"
    }
   },
   "source": [
    "# Exercise 2 - Answers"
   ]
  },
  {
   "cell_type": "markdown",
   "metadata": {
    "slideshow": {
     "slide_type": "slide"
    }
   },
   "source": [
    "## Task 1\n",
    "* max 2 points, 1 point for correct obj function, 1 point for correct constraint\n"
   ]
  },
  {
   "cell_type": "markdown",
   "metadata": {},
   "source": [
    "The profit that you make **for each kwH** is $2-0.01x^2-(1-0.01x)$. Thus, the amount of profit that you make is\n",
    "$$\n",
    "(1+0.01x-0.01x^2)x=x+0.01x^2-0.01x^3.\n",
    "$$\n",
    "Thus, the optimization problem is\n",
    "$$\n",
    "\\begin{align}\n",
    "\\max \\qquad & x+0.01x^2-0.01x^3\\\\\n",
    "\\text{s.t.} \\qquad & 0\\leq x \\leq 50.\n",
    "\\end{align}\n",
    "$$"
   ]
  },
  {
   "cell_type": "markdown",
   "metadata": {
    "slideshow": {
     "slide_type": "slide"
    }
   },
   "source": [
    "## Task 2\n",
    "* max 2 points, 2 points if one gets correct solution, points are reduced if the implementation has any flaws "
   ]
  },
  {
   "cell_type": "code",
   "execution_count": 1,
   "metadata": {},
   "outputs": [],
   "source": [
    "def bisection_line_search(a,b,f,L,epsilon):\n",
    "    x = a\n",
    "    y = b\n",
    "    iters = 0\n",
    "    while y-x>2*L:\n",
    "        if f((x+y)/2+epsilon)>f((x+y)/2-epsilon):\n",
    "            y=(x+y)/2+epsilon\n",
    "        else:\n",
    "            x = (x+y)/2-epsilon\n",
    "        iters = iters + 1\n",
    "    return (x+y)/2, iters"
   ]
  },
  {
   "cell_type": "code",
   "execution_count": 2,
   "metadata": {},
   "outputs": [],
   "source": [
    "# the problem to be solved\n",
    "def f_ex2(x):\n",
    "    return (1-x)**2+x"
   ]
  },
  {
   "cell_type": "code",
   "execution_count": 3,
   "metadata": {},
   "outputs": [
    {
     "name": "stdout",
     "output_type": "stream",
     "text": [
      "Local optimum approximation: 0.49993946490478514\n",
      "Number of iterations: 14\n"
     ]
    }
   ],
   "source": [
    "(x_opt,iters) = bisection_line_search(0,2,f_ex2,0.0001,1e-6)\n",
    "print(\"Local optimum approximation:\", x_opt)\n",
    "print(\"Number of iterations:\", iters)"
   ]
  },
  {
   "cell_type": "code",
   "execution_count": 4,
   "metadata": {},
   "outputs": [
    {
     "name": "stdout",
     "output_type": "stream",
     "text": [
      "0.7500000036644978\n",
      "1 3\n"
     ]
    }
   ],
   "source": [
    "# check the objective function value at the solutions found\n",
    "print(f_ex2(x_opt))\n",
    "\n",
    "# check the objective function values at the end points of the interval\n",
    "print(f_ex2(0), f_ex2(2))"
   ]
  },
  {
   "cell_type": "markdown",
   "metadata": {
    "slideshow": {
     "slide_type": "slide"
    }
   },
   "source": [
    "## Task 3\n",
    "* max 2 points, 2 points if one gets correct solution, points are reduced if the implementation has any flaws "
   ]
  },
  {
   "cell_type": "code",
   "execution_count": 5,
   "metadata": {},
   "outputs": [],
   "source": [
    "import math\n",
    "def golden_section_line_search(a,b,f,L):\n",
    "    x = a\n",
    "    y = b\n",
    "    iters = 0\n",
    "    golden_ratio = (math.sqrt(5.0)-1)/2.0\n",
    "    f_left = f(y-golden_ratio*(y-x)) #funtion eval \n",
    "    f_right = f(x+golden_ratio*(y-x)) #function eval\n",
    "    while y-x>2*L:\n",
    "        if f_left > f_right:\n",
    "            x = y-golden_ratio*(y-x)\n",
    "            f_left = f_right #no function eval\n",
    "            f_right = f(x+golden_ratio*(y-x)) #function eval\n",
    "        else:\n",
    "            y = x+golden_ratio*(y-x)\n",
    "            f_right = f_left #no function eval\n",
    "            f_left = f(y-golden_ratio*(y-x)) #function eval\n",
    "        iters = iters + 1\n",
    "    return (x+y)/2, iters"
   ]
  },
  {
   "cell_type": "code",
   "execution_count": 6,
   "metadata": {},
   "outputs": [
    {
     "name": "stdout",
     "output_type": "stream",
     "text": [
      "0.4999795718254958\n",
      "20\n"
     ]
    }
   ],
   "source": [
    "(x_opt2,iters) = golden_section_line_search(0,2,f_ex2,0.0001)\n",
    "print(x_opt2)\n",
    "print(iters)"
   ]
  },
  {
   "cell_type": "markdown",
   "metadata": {
    "slideshow": {
     "slide_type": "slide"
    }
   },
   "source": [
    "## Task 4\n",
    "* 1 point for each problem"
   ]
  },
  {
   "cell_type": "markdown",
   "metadata": {},
   "source": [
    "**Problem 1**: $f(x)=x+0.01x^2-0.01x^3$. Thus,\n",
    "$$\n",
    "f'(x) = 1 + 2*0.01x - 3*0.01x^2 = 1 + 0.02x - 0.03x^2\n",
    "$$\n",
    "and\n",
    "$$\n",
    "f''(x) = 0.02-0.06x.\n",
    "$$"
   ]
  },
  {
   "cell_type": "markdown",
   "metadata": {},
   "source": [
    "If $f'(x) = 0$, then \n",
    "$$\n",
    "x = \\frac{-0.002\\pm\\sqrt{0.02^2-4*(-0.03)*1}}{2*(-0.03)}=\\frac{0.02\\pm\\sqrt{0.1204}}{0.06}\n",
    "$$"
   ]
  },
  {
   "cell_type": "code",
   "execution_count": 7,
   "metadata": {},
   "outputs": [],
   "source": [
    "def f1(x):\n",
    "    return x+0.01*x**2-0.01*x**3"
   ]
  },
  {
   "cell_type": "code",
   "execution_count": 8,
   "metadata": {},
   "outputs": [
    {
     "name": "stdout",
     "output_type": "stream",
     "text": [
      "6.116450524299158 -5.449783857632491 0.0 50.0\n",
      "4.202336906253436 -3.534188758105288 0.0 -1175.0\n"
     ]
    }
   ],
   "source": [
    "import math\n",
    "x1 = (0.02+math.sqrt(0.1204))/0.06\n",
    "x2 = (0.02-math.sqrt(0.1204))/0.06\n",
    "x3 = 0.0 # lower bound\n",
    "x4 = 50.0 # upper bound\n",
    "print(x1, x2, x3, x4)\n",
    "print(f1(x1),f1(x2),f1(x3),f1(x4))"
   ]
  },
  {
   "cell_type": "markdown",
   "metadata": {},
   "source": [
    "$f''(x)<0$ when $0.02-0.06x<0$ that is $x>1/3$. So $x=\\frac{0.02+\\sqrt{0.1204}}{0.06}\\approx 6.116$ is a local maximum."
   ]
  },
  {
   "cell_type": "code",
   "execution_count": 9,
   "metadata": {},
   "outputs": [],
   "source": [
    "def hf(x):\n",
    "    return 0.02-0.06*x"
   ]
  },
  {
   "cell_type": "code",
   "execution_count": 10,
   "metadata": {},
   "outputs": [
    {
     "data": {
      "image/png": "[encoded data removed]",
      "text/plain": [
       "<Figure size 432x288 with 1 Axes>"
      ]
     },
     "metadata": {
      "needs_background": "light"
     },
     "output_type": "display_data"
    },
    {
     "name": "stdout",
     "output_type": "stream",
     "text": [
      "0.0\n"
     ]
    }
   ],
   "source": [
    "import numpy as np\n",
    "import matplotlib.pyplot as plt\n",
    "\n",
    "x = np.arange(-15.0, 15.0, 1.0)\n",
    "#plt.plot(x, f1(x), 'bo')\n",
    "plt.plot(x, f1(x), 'bo', x, hf(x),'ro') # objective function blue, second derivative red\n",
    "plt.show()\n",
    "print(f1(0.0))"
   ]
  },
  {
   "cell_type": "markdown",
   "metadata": {},
   "source": [
    "**Problem 2**: Now, $f(x) = (1-x)^2+x$. Thus, \n",
    "$$\n",
    "f'(x)=2(1-x)(-1)+1= -1 +2x.\n",
    "$$\n"
   ]
  },
  {
   "cell_type": "markdown",
   "metadata": {},
   "source": [
    "If $f'(x) = 0$, then $2x=1$ and $x=\\frac 12$.\n",
    "This is a local minimum since,\n",
    "$$\n",
    "f''(x) = 2,\n",
    "$$\n",
    "which is greater than $0$.\n",
    "\n",
    "This means that the algorithms work!"
   ]
  }
 ],
 "metadata": {
  "anaconda-cloud": {},
  "celltoolbar": "Slideshow",
  "kernelspec": {
   "display_name": "Python [conda env:base] *",
   "language": "python",
   "name": "conda-base-py"
  },
  "language_info": {
   "codemirror_mode": {
    "name": "ipython",
    "version": 3
   },
   "file_extension": ".py",
   "mimetype": "text/x-python",
   "name": "python",
   "nbconvert_exporter": "python",
   "pygments_lexer": "ipython3",
   "version": "3.12.7"
  }
 },
 "nbformat": 4,
 "nbformat_minor": 4
}
