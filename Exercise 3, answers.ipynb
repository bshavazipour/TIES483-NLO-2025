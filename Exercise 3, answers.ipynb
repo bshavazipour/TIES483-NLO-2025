{
 "cells": [
  {
   "cell_type": "markdown",
   "metadata": {
    "slideshow": {
     "slide_type": "slide"
    }
   },
   "source": [
    "# Exercises 3, answers"
   ]
  },
  {
   "cell_type": "code",
   "execution_count": 1,
   "metadata": {},
   "outputs": [],
   "source": [
    "def objective_function(x): # function to be optimized\n",
    "    return (x[0]**2.0 + x[1]**2.0 + x[0] + 2.0 * x[1])"
   ]
  },
  {
   "cell_type": "markdown",
   "metadata": {
    "slideshow": {
     "slide_type": "fragment"
    }
   },
   "source": [
    "$\\nabla f(x) = (2x_1+1,2x_2+2)=0$ if and only if $x_1=-0.5$ and $x_2 = -1.0$. Thus $x^*=(-0.5,-1.0)$."
   ]
  },
  {
   "cell_type": "markdown",
   "metadata": {
    "slideshow": {
     "slide_type": "slide"
    }
   },
   "source": [
    "## Task 1\n",
    "* max 3 points, 3 points if one gets correct solution and line search is properly done, reductions if something is not done correctly"
   ]
  },
  {
   "cell_type": "code",
   "execution_count": 2,
   "metadata": {},
   "outputs": [],
   "source": [
    "import math\n",
    "def golden_section_line_search(a,b,f,L): # same as in the lectures\n",
    "    x = a\n",
    "    y = b\n",
    "    while y-x>2*L:\n",
    "        if f(x+(math.sqrt(5.0)-1)/2.0*(y-x))<f(y-(math.sqrt(5.0)-1)/2.0*(y-x)):\n",
    "            x = y-(math.sqrt(5.0)-1)/2.0*(y-x)\n",
    "        else:\n",
    "            y = x+(math.sqrt(5.0)-1)/2.0*(y-x)\n",
    "    return (x+y)/2"
   ]
  },
  {
   "cell_type": "code",
   "execution_count": 3,
   "metadata": {
    "slideshow": {
     "slide_type": "subslide"
    }
   },
   "outputs": [],
   "source": [
    "import numpy as np\n",
    "import ad\n",
    "def steepest_descent_withgolden(f,start,search_interval_length,precision):\n",
    "    f_old = float('Inf')\n",
    "    x = np.array(start)\n",
    "    steps = []\n",
    "    f_new = f(x)\n",
    "    d = float('Inf')\n",
    "    while abs(f_old-f_new)>precision and len(steps)<100:\n",
    "#    while np.linalg.norm(d)>precision:\n",
    "        f_old = f_new\n",
    "        d = -np.array(ad.gh(f)[0](x)) # search direction of the steepest descent\n",
    "        # step length optimization with golden section\n",
    "        step = golden_section_line_search(0,\n",
    "                                          search_interval_length/np.linalg.norm(d), # normalization, can be done earlier as well\n",
    "                                          lambda t: f(x+t*d), # function with respect to step length t\n",
    "                                          precision)\n",
    "        x = x+d*step\n",
    "        f_new = f(x)\n",
    "        steps.append(list(x))\n",
    "    return x,f_new,steps"
   ]
  },
  {
   "cell_type": "code",
   "execution_count": 4,
   "metadata": {
    "slideshow": {
     "slide_type": "fragment"
    }
   },
   "outputs": [
    {
     "name": "stdout",
     "output_type": "stream",
     "text": [
      "[-0.50000001 -0.99999998]\n",
      "2\n",
      "[[-0.4996553033929336, -1.0008425917061619], [-0.5000000089498053, -0.999999978122698]]\n"
     ]
    }
   ],
   "source": [
    "start = [-5,10]\n",
    "precision = 0.0001\n",
    "(x,f_new,steps1) = steepest_descent_withgolden(objective_function,\n",
    "                                               start,20,precision)\n",
    "print (x)\n",
    "print(len(steps1))\n",
    "print(steps1)"
   ]
  },
  {
   "cell_type": "code",
   "execution_count": 5,
   "metadata": {},
   "outputs": [],
   "source": [
    "# alternative implementation by scaling the search direction \n",
    "def steepest_descent_withgolden_scaled(f,start,search_interval_length,precision):\n",
    "    f_old = float('Inf')\n",
    "    x = np.array(start)\n",
    "    steps = []\n",
    "    f_new = f(x)\n",
    "    d = float('Inf')\n",
    "    while abs(f_old-f_new)>precision and len(steps)<100:\n",
    "#    while np.linalg.norm(d)>precision:\n",
    "        f_old = f_new\n",
    "        d = -np.array(ad.gh(f)[0](x)) # search direction of the steepest descent\n",
    "        # normalize d so that the length of the step is actually equal to step\n",
    "        d = d/np.linalg.norm(d)\n",
    "        # step length optimization with golden section\n",
    "        step = golden_section_line_search(0,\n",
    "                                          search_interval_length, \n",
    "                                          lambda t: f(x+t*d), # function with respect to step length t\n",
    "                                          precision)\n",
    "        x = x+d*step\n",
    "        f_new = f(x)\n",
    "        steps.append(list(x))\n",
    "    return x,f_new,steps"
   ]
  },
  {
   "cell_type": "code",
   "execution_count": 6,
   "metadata": {
    "slideshow": {
     "slide_type": "fragment"
    }
   },
   "outputs": [
    {
     "name": "stdout",
     "output_type": "stream",
     "text": [
      "[-0.49997332 -1.00006523]\n",
      "2\n",
      "[[-0.5000098340619141, -0.9999759611819865], [-0.49997331539466816, -1.0000652290352587]]\n"
     ]
    }
   ],
   "source": [
    "(x,f_new,steps3) = steepest_descent_withgolden_scaled(objective_function,\n",
    "                                               start,20,precision)\n",
    "print (x)\n",
    "print(len(steps3))\n",
    "print(steps3)"
   ]
  },
  {
   "cell_type": "code",
   "execution_count": 7,
   "metadata": {
    "slideshow": {
     "slide_type": "fragment"
    }
   },
   "outputs": [],
   "source": [
    "import matplotlib.pyplot as plt\n",
    "\n",
    "def plot_2d_steps(steps,start):\n",
    "    myvec = np.array([start]+steps).transpose()\n",
    "    plt.plot(myvec[0,],myvec[1,],'bo')\n",
    "    return plt"
   ]
  },
  {
   "cell_type": "code",
   "execution_count": 8,
   "metadata": {},
   "outputs": [
    {
     "data": {
      "image/png": "[encoded data removed]",
      "text/plain": [
       "<Figure size 432x288 with 1 Axes>"
      ]
     },
     "metadata": {
      "needs_background": "light"
     },
     "output_type": "display_data"
    }
   ],
   "source": [
    "plot_2d_steps(steps3,start).show()"
   ]
  },
  {
   "cell_type": "markdown",
   "metadata": {
    "slideshow": {
     "slide_type": "slide"
    }
   },
   "source": [
    "## Task 2\n",
    "* max 2 points, 1 point for plot, 1 point if there is comparison/analysis"
   ]
  },
  {
   "cell_type": "code",
   "execution_count": 9,
   "metadata": {},
   "outputs": [],
   "source": [
    "import numpy as np\n",
    "import ad\n",
    "def steepest_descent(f,start,step,precision): # from the lectures\n",
    "    f_old = float('Inf')\n",
    "    x = np.array(start)\n",
    "    steps = []\n",
    "    f_new = f(x)\n",
    "    d = float('Inf')\n",
    "#    while abs(f_old-f_new)>precision and len(steps)<10:\n",
    "    while np.linalg.norm(d)>precision and len(steps)<20:\n",
    "        f_old = f_new\n",
    "        d = -np.array(ad.gh(f)[0](x))\n",
    "        x = x+d*step\n",
    "        f_new = f(x)\n",
    "        steps.append(list(x))\n",
    "    return x,f_new,steps"
   ]
  },
  {
   "cell_type": "code",
   "execution_count": 10,
   "metadata": {
    "slideshow": {
     "slide_type": "fragment"
    }
   },
   "outputs": [
    {
     "name": "stdout",
     "output_type": "stream",
     "text": [
      "[-0.50016453 -0.99959782]\n",
      "20\n",
      "[[-3.2, 5.6], [-2.12, 2.9599999999999995], [-1.472, 1.3759999999999997], [-1.0832, 0.42559999999999987], [-0.84992, -0.1446400000000001], [-0.709952, -0.4867840000000001], [-0.6259712, -0.6920704000000001], [-0.57558272, -0.8152422400000001], [-0.545349632, -0.8891453440000001], [-0.5272097792, -0.9334872064], [-0.51632586752, -0.96009232384], [-0.5097955205119999, -0.976055394304], [-0.5058773123072, -0.9856332365824], [-0.50352638738432, -0.99137994194944], [-0.502115832430592, -0.994827965169664], [-0.5012694994583552, -0.9968967791017984], [-0.5007616996750132, -0.998138067461079], [-0.5004570198050079, -0.9988828404766474], [-0.5002742118830047, -0.9993297042859884], [-0.5001645271298029, -0.999597822571593]]\n"
     ]
    }
   ],
   "source": [
    "step = 0.2\n",
    "(x,f_new,steps2) = steepest_descent(objective_function,start,step,precision)\n",
    "print(x)\n",
    "print(len(steps2))\n",
    "print(steps2)"
   ]
  },
  {
   "cell_type": "code",
   "execution_count": 11,
   "metadata": {
    "slideshow": {
     "slide_type": "fragment"
    }
   },
   "outputs": [],
   "source": [
    "def plot_2d_steps2(steps1,start1,steps2,start2):\n",
    "    myvec1 = np.array([start1]+steps1).transpose()\n",
    "    myvec2 = np.array([start2]+steps2).transpose()\n",
    "    plt.plot(myvec2[0,],myvec2[1,],'bo')    \n",
    "    plt.plot(myvec1[0,],myvec1[1,],'rx')\n",
    "    return plt"
   ]
  },
  {
   "cell_type": "code",
   "execution_count": 12,
   "metadata": {
    "slideshow": {
     "slide_type": "fragment"
    }
   },
   "outputs": [
    {
     "data": {
      "image/png": "[encoded data removed]",
      "text/plain": [
       "<Figure size 432x288 with 1 Axes>"
      ]
     },
     "metadata": {
      "needs_background": "light"
     },
     "output_type": "display_data"
    }
   ],
   "source": [
    "plot_2d_steps2(steps1,start,steps2,start).show() # optimized blue, fixed red"
   ]
  },
  {
   "cell_type": "markdown",
   "metadata": {
    "slideshow": {
     "slide_type": "subslide"
    }
   },
   "source": [
    "**Remarks**\n",
    "* With fixed step size the steps are not actually of equal length since the step size is multiplied with the gradient whose length varies\n",
    "* The performance of steepest descent with optimized step size also depends on what is set as the maximum step length\n",
    "  * too long --> golden section search uses a high nuber of function evaluations\n",
    "  * too short --> takes shorter steps where improvement could still be made with longer ones"
   ]
  },
  {
   "cell_type": "markdown",
   "metadata": {
    "slideshow": {
     "slide_type": "slide"
    }
   },
   "source": [
    "## Task 3\n",
    "* max 3 points, 3 points if one gets correct result, reductions is there are flaws"
   ]
  },
  {
   "cell_type": "markdown",
   "metadata": {},
   "source": [
    "$$y_k=\\nabla f(x_k+s_k)-\\nabla f(x_k),$$\n",
    "\n",
    "$$s_k=x_{k+1} -x_k=(x_k+s_k)-x_k$$\n",
    "\n",
    "$$H_{k+1}=H_{k}-\\frac{H_k y_k y_k^T H_k}{y_k^T H_k y_k}+\\frac{s_k s_k^T}{y_k^{T} s_k}$$"
   ]
  },
  {
   "cell_type": "code",
   "execution_count": 13,
   "metadata": {
    "slideshow": {
     "slide_type": "fragment"
    }
   },
   "outputs": [],
   "source": [
    "import ad\n",
    "import numpy as np\n",
    "def update_Hinv(H_inv_old,x_old,x_new,f): # subroutine to update inverse of the Hessian\n",
    "    y = np.matrix(ad.gh(f)[0](x_new)-ad.gh(f)[0](x_old)).transpose() # compute y_k\n",
    "    second_term = H_inv_old*y*y.transpose()*H_inv_old/(y.transpose()*H_inv_old*y)\n",
    "#    second_term = H_inv_old*y*y.transpose()*H_inv_old.transpose()/(y.transpose()*H_inv_old*y)\n",
    "    s = np.matrix(x_new-x_old).transpose() # compute s_k\n",
    "    third_term = s*s.transpose()/(y.transpose()*s)\n",
    "    H_inv_new = H_inv_old-second_term+third_term\n",
    "    return H_inv_new"
   ]
  },
  {
   "cell_type": "code",
   "execution_count": 14,
   "metadata": {
    "slideshow": {
     "slide_type": "subslide"
    }
   },
   "outputs": [],
   "source": [
    "import numpy as np\n",
    "def quasi_newton_DFP(f,start,step,precision):\n",
    "    f_old = float('Inf')\n",
    "    x_new = np.array(start)\n",
    "    steps = []\n",
    "    f_new = f(x_new)\n",
    "    # Use identity matrix as the first approximation (is positive definite, first search direction is the steepest descent)\n",
    "    H_inv = np.eye(len(start))\n",
    "    d = float('Inf')\n",
    "#    while abs(f_old-f_new)>precision and len(steps)<20:\n",
    "    while np.linalg.norm(d)>precision and len(steps)<20:\n",
    "        d = (-H_inv*(np.matrix(ad.gh(f)[0](x_new)).transpose())).transpose()\n",
    "        x_old = x_new\n",
    "        f_old = f_new\n",
    "        #Change the type from np.matrix to np.array so that we can use it in our function\n",
    "        x_new = np.array(x_new+d*step)[0]\n",
    "        f_new = f(x_new)\n",
    "        steps.append(list(x_new))\n",
    "        H_inv = update_Hinv(H_inv,x_old,x_new,f)\n",
    "    return x_new,f_new,steps,H_inv"
   ]
  },
  {
   "cell_type": "code",
   "execution_count": 15,
   "metadata": {
    "slideshow": {
     "slide_type": "fragment"
    }
   },
   "outputs": [
    {
     "name": "stdout",
     "output_type": "stream",
     "text": [
      "[-0.50003047 -0.99996344]\n",
      "20\n",
      "[[-1.0, -0.40000000000000036], [-0.7999999999999999, -0.6400000000000001], [-0.68, -0.7840000000000001], [-0.6079999999999999, -0.8704000000000001], [-0.5648000000000001, -0.9222400000000002], [-0.5388799999999999, -0.953344], [-0.5233280000000001, -0.9720064000000002], [-0.5139967999999999, -0.9832038399999999], [-0.5083980800000001, -0.9899223040000001], [-0.5050388479999999, -0.9939533824], [-0.5030233088000001, -0.9963720294400001], [-0.5018139852799999, -0.997823217664], [-0.5010883911680001, -0.9986939305984002], [-0.5006530347007998, -0.99921635835904], [-0.5003918208204801, -0.9995298150154242], [-0.5002350924922878, -0.9997178890092543], [-0.5001410554953729, -0.9998307334055527], [-0.5000846332972235, -0.9998984400433315], [-0.5000507799783344, -0.9999390640259991], [-0.5000304679870003, -0.9999634384155992]]\n"
     ]
    }
   ],
   "source": [
    "start = [-3,2]\n",
    "(x,f_new,steps,H_inv)=quasi_newton_DFP(objective_function,start,0.4,precision)\n",
    "print(x)\n",
    "print(len(steps))\n",
    "print (steps)"
   ]
  },
  {
   "cell_type": "code",
   "execution_count": 16,
   "metadata": {
    "slideshow": {
     "slide_type": "fragment"
    }
   },
   "outputs": [
    {
     "data": {
      "image/png": "[encoded data removed]",
      "text/plain": [
       "<Figure size 432x288 with 1 Axes>"
      ]
     },
     "metadata": {
      "needs_background": "light"
     },
     "output_type": "display_data"
    }
   ],
   "source": [
    "plot_2d_steps(steps,start).show()"
   ]
  },
  {
   "cell_type": "code",
   "execution_count": 17,
   "metadata": {},
   "outputs": [
    {
     "name": "stdout",
     "output_type": "stream",
     "text": [
      "solution  [-0.50003047 -0.99996344]\n",
      "objective value  -1.2499999977349523\n",
      "----- exact inverse Hessian at  [-0.50003047 -0.99996344]  ------\n",
      "[[0.5 0. ]\n",
      " [0.  0.5]]\n",
      "----- approximation of the inverse Hessian at  [-0.50003047 -0.99996344]  ------\n",
      "[[0.79508197 0.24590164]\n",
      " [0.24590164 0.70491803]]\n"
     ]
    }
   ],
   "source": [
    "print(\"solution \",x)\n",
    "print(\"objective value \",objective_function(x))\n",
    "print(\"----- exact inverse Hessian at \",x,\" ------\")\n",
    "print(np.linalg.inv(ad.gh(objective_function)[1](x)))\n",
    "print(\"----- approximation of the inverse Hessian at \",x,\" ------\")\n",
    "print(H_inv)"
   ]
  },
  {
   "cell_type": "markdown",
   "metadata": {},
   "source": [
    "*Convergence of the approximations to exact inverse of the Hessian depend on the properties of the problem and the update rule used.*\n",
    "\n",
    "More information in \n",
    "https://en.wikipedia.org/wiki/Quasi-Newton_method"
   ]
  }
 ],
 "metadata": {
  "anaconda-cloud": {},
  "celltoolbar": "Slideshow",
  "kernelspec": {
   "display_name": "Python 3",
   "language": "python",
   "name": "python3"
  },
  "language_info": {
   "codemirror_mode": {
    "name": "ipython",
    "version": 3
   },
   "file_extension": ".py",
   "mimetype": "text/x-python",
   "name": "python",
   "nbconvert_exporter": "python",
   "pygments_lexer": "ipython3",
   "version": "3.8.8"
  }
 },
 "nbformat": 4,
 "nbformat_minor": 1
}
