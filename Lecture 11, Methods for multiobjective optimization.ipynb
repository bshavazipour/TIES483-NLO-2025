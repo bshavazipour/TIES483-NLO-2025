{
 "cells": [
  {
   "cell_type": "code",
   "execution_count": 1,
   "metadata": {
    "slideshow": {
     "slide_type": "skip"
    }
   },
   "outputs": [
    {
     "data": {
      "text/html": [
       "<style>.container { width:95% !important; }</style>"
      ],
      "text/plain": [
       "<IPython.core.display.HTML object>"
      ]
     },
     "execution_count": 1,
     "metadata": {},
     "output_type": "execute_result"
    }
   ],
   "source": [
    "from IPython.core.display import HTML\n",
    "HTML(\"<style>.container { width:95% !important; }</style>\")"
   ]
  },
  {
   "cell_type": "markdown",
   "metadata": {
    "slideshow": {
     "slide_type": "slide"
    }
   },
   "source": [
    "# Lecture 11, Solution methods for multiobjective optimization "
   ]
  },
  {
   "cell_type": "markdown",
   "metadata": {
    "slideshow": {
     "slide_type": "slide"
    }
   },
   "source": [
    "## Reminder:"
   ]
  },
  {
   "cell_type": "markdown",
   "metadata": {},
   "source": [
    "### Mathematical formulation of multiobjective optimization problems\n",
    "\n",
    "Multiobjective optimization problems are often formulated as\n",
    "$$\n",
    "\\begin{align} \\\n",
    "\\min \\quad &\\{f_1(x),\\ldots,f_k(x)\\}\\\\\n",
    "\\text{s.t.} \\quad & g_j(x) \\geq 0\\text{ for all }j=1,\\ldots,J\\\\\n",
    "& h_q(x) = 0\\text{ for all }q=1,\\ldots,Q\\\\\n",
    "&a_i\\leq x_i\\leq b_i\\text{ for all } i=1,\\ldots,n\\\\\n",
    "&x\\in \\mathbb R^n,\n",
    "\\end{align}\n",
    "$$\n",
    "where $$f_1,\\ldots,f_k:\\{x\\in\\mathbb R^n: g_j(x) \\geq 0 \\text{ for all }j=1,\\ldots,J \\text{ and } h_q(x) = 0\\text{ for all }q=1,\\ldots,Q\\}\\mapsto\\mathbb R$$ are the objective functions."
   ]
  },
  {
   "cell_type": "markdown",
   "metadata": {
    "slideshow": {
     "slide_type": "fragment"
    }
   },
   "source": [
    "## Pareto optimality\n",
    "A feasible solution $x_1$ is Pareto optimal to the above multiobjective optimization problem, if there does not exist a feasible solution $x_2$, $x_1\\neq x_2$, such that \n",
    "$$\n",
    "\\left\\{\n",
    "\\begin{align}\n",
    "&f_i(x_2)\\leq f_i(x_1)\\text{ for all }i\\in \\{1,\\ldots,k\\}\\\\\n",
    "&f_j(x_2)<f_j(x_1)\\text{ for some }j\\in \\{1,\\ldots,k\\}.\\\\\n",
    "\\end{align}\n",
    "\\right.\n",
    "$$"
   ]
  },
  {
   "cell_type": "markdown",
   "metadata": {
    "slideshow": {
     "slide_type": "subslide"
    }
   },
   "source": [
    "### Basic concepts"
   ]
  },
  {
   "cell_type": "markdown",
   "metadata": {},
   "source": [
    "* There is no single optimal solution, instead we have a set of solutions called **Pareto optimal** set.\n",
    "* All the objectives don’t have the same optimal solution → optimality needs to be modified "
   ]
  },
  {
   "cell_type": "markdown",
   "metadata": {
    "slideshow": {
     "slide_type": "subslide"
    }
   },
   "source": [
    "### PARETO OPTIMALITY (PO)\n",
    "* A solution is Pareto optimal if none of the objectives can be improved without impairing at least one of the others\n",
    "\n",
    "It means:                   \n",
    "$$\n",
    "\\text{“Take from Sami to pay Anna”}\n",
    "$$\n",
    "\n",
    "* Optimal solutions are located at the boundary to the down & left (for minimization problems)*\n",
    "![alt text](images/po4.png)"
   ]
  },
  {
   "cell_type": "markdown",
   "metadata": {
    "slideshow": {
     "slide_type": "subslide"
    }
   },
   "source": [
    "* There are two spaces connected to the problem: the space $\\mathbb R^n$ is called the decision space and $\\mathbb R^k$ is called the objective space. \n",
    "\n",
    "1. **Decision space**: includes the **Pareto optimal solution set**\n",
    "2. **Objective space**: consists of the image of Pareto optimal solutions (**Pareto frontier**) \n",
    "\n",
    "![alt text](images/basic_definitions2.svg \"Multiobjective optimization\")\n",
    "\n"
   ]
  },
  {
   "cell_type": "markdown",
   "metadata": {
    "slideshow": {
     "slide_type": "slide"
    }
   },
   "source": [
    "## Some more concepts:"
   ]
  },
  {
   "cell_type": "markdown",
   "metadata": {},
   "source": [
    "In addition to Pareto optimality, two more concepts are important, which are called the ideal and the nadir vector. \n",
    "\n",
    "* **Ideal objective vector $𝒛^{ideal}$:** best values for each objective (when optimized independently)\n",
    "* **Nadir objective vector $𝒛^{𝑛𝑎𝑑ir}$:** worst values for each objective in PO set \n",
    "\n",
    "![alt text](images/nadir_ideal.svg \"Nadir and the ideal vectors\")"
   ]
  },
  {
   "cell_type": "markdown",
   "metadata": {},
   "source": [
    "Mathematically the ideal vector $z^{ideal}$ can be defined as having \n",
    "$$\n",
    "z^{ideal}_i = \\begin{align} \\\n",
    "\\min \\quad &f_i(x)\\\\\n",
    "\\text{s.t.} \\quad &x\\text{ is feasible}\n",
    "\\end{align}\n",
    "$$\n",
    "for all $i=1,\\ldots,k$ (i.e., by **solving single-objective optimization problems, one for each objective**). \n",
    "\n",
    "The nadir vector $z^{nadir}$ on the other hand has\n",
    "$$\n",
    "z^{nadir}_i = \n",
    "\\begin{align}\n",
    "\\max \\quad &f_i(x)\\\\\n",
    "\\text{s.t.} \\quad &x\\text{ is Pareto optimal},\n",
    "\\end{align}\n",
    "$$\n",
    "for all $i=1,\\ldots,k$ (**not as straightforward as calculating the ideal points for more than two objectives**)."
   ]
  },
  {
   "cell_type": "markdown",
   "metadata": {
    "slideshow": {
     "slide_type": "subslide"
    }
   },
   "source": [
    "## Optimization problem formulation\n",
    "* By optimizing only one criterion, the rest are not considered\n",
    "* Objective vs. constraint\n",
    "* Summation of the objectives\n",
    "   * adding apples and oranges\n",
    "* Converting the objectives (e.g., as costs)\n",
    "   * not easy, includes uncertainteis\n",
    "* Multiobjective formulation reveals interdependences between the objectives"
   ]
  },
  {
   "cell_type": "markdown",
   "metadata": {
    "slideshow": {
     "slide_type": "subslide"
    }
   },
   "source": [
    "## Example\n",
    "\n",
    "Consider multiobjective optimization problem\n",
    "$$\n",
    "\\min \\{f_1(x,y)=x^2+y,\\quad f_2(x,y)=1-x\\}\\\\\n",
    "\\text{s.t. }x\\in[0,1], y\\geq0.\n",
    "$$"
   ]
  },
  {
   "cell_type": "markdown",
   "metadata": {
    "slideshow": {
     "slide_type": "fragment"
    }
   },
   "source": [
    "#### Pareto optimal solutions\n",
    "Now, the set of Pareto optimal solutions is\n",
    "\n",
    "$$\n",
    "\\{(x,0):x\\in[0,1]\\}.\n",
    "$$\n",
    "\n",
    "How to show this?"
   ]
  },
  {
   "cell_type": "markdown",
   "metadata": {
    "slideshow": {
     "slide_type": "fragment"
    }
   },
   "source": [
    "Let's show that $(x',0)$ is Pareto optimal for all $x'\\in[0,1]$. *The idea of the proof: assume that $(x',0)$ is not Pareto optimal and then deduce a contradiction.*\n",
    "\n",
    "Let's assume there exist a feasible solution $(x,y) \\neq (x',0) $ with $x\\in[0,1]$ and $y\\geq0$ such that\n",
    "\n",
    "$$\n",
    "\\left\\{\n",
    "\\begin{align}\n",
    "f_1(x,y)=x^2+y\\leq x'^2=f_1(x',0),\\textbf{ and}\\\\\n",
    "f_2(x,y)=1-x\\leq 1-x'=f_2(x',0).\n",
    "\\end{align}\n",
    "\\right.\n",
    "$$\n",
    "\n",
    "and\n",
    "\n",
    "$$\n",
    "\\left\\{\n",
    "\\begin{align}\n",
    "f_1(x,y)=x^2+y< x'^2 =f_1(x',0)\\textbf{ or}\\\\\n",
    "f_2(x,y)=1-x< 1-x'=f_2(x',0).\n",
    "\\end{align}\n",
    "\\right.\n",
    "$$\n",
    "\n",
    "Second inequality in the first system of inequalities gives $x\\geq x'$. This yields from the first inequality in that same system of inequalities\n",
    "\n",
    "$$\n",
    "y\\leq x'^2-x^2\\leq 0.\n",
    "$$\n",
    "\n",
    "Thus, $y=0$. This means that $x=x'$ using again the first inequality.\n",
    "\n",
    "This means that the solution cannot satisfy the second system of strict inequalities. We have a contradiction and, therefore, $(x',0)$ has to be Pareto optimal."
   ]
  },
  {
   "cell_type": "markdown",
   "metadata": {
    "slideshow": {
     "slide_type": "subslide"
    }
   },
   "source": [
    "Now, we show that any other feasible solution can not be Pareto optimal. Let's assume a solution $(x,y)$, where $x\\in[0,1]$ and $y>0$ and show that this is not Pareto optimal:\n",
    "\n",
    "By choosing solution $(x,0)$, we have \n",
    "\n",
    "$$\n",
    "\\left\\{\n",
    "\\begin{align}\n",
    "f_1(x,0)=x^2<x^2+y=f_1(x,y) ,\\text{ and}\\\\\n",
    "f_2(x,0)=1-x\\leq 1-x=f_2(x,y).\n",
    "\\end{align}\n",
    "\\right.\n",
    "$$\n",
    "\n",
    "Thus, the solution $(x,y)$ cannot be Pareto optimal."
   ]
  },
  {
   "cell_type": "markdown",
   "metadata": {
    "slideshow": {
     "slide_type": "subslide"
    }
   },
   "source": [
    "#### Ideal\n",
    "Now\n",
    "\n",
    "$$\n",
    "\\begin{align}\n",
    "\\min f_1 = x^2+y\\\\\n",
    "\\text{s.t. }x\\in[0,1],\\ y\\geq0\n",
    "\\end{align}\n",
    "= 0\n",
    "$$\n",
    "\n",
    "and\n",
    "\n",
    "$$\n",
    "\\begin{align}\n",
    "\\min f_2 = 1-x\\\\\n",
    "\\text{s.t. }x\\in[0,1],\\ y\\geq0\n",
    "\\end{align}\n",
    "= 0.\n",
    "$$\n",
    "\n",
    "Thus, the ideal is\n",
    "\n",
    "$$\n",
    "z^{ideal} = (0,0)^T\n",
    "$$"
   ]
  },
  {
   "cell_type": "markdown",
   "metadata": {
    "slideshow": {
     "slide_type": "fragment"
    }
   },
   "source": [
    "#### Nadir\n",
    "Now,\n",
    "\n",
    "$$\n",
    "\\begin{align}\n",
    "\\max x^2+y\\\\\n",
    "\\text{s.t. }x\\in[0,1],\\ y=0\n",
    "\\end{align}\n",
    "= 1\n",
    "$$\n",
    "\n",
    "and\n",
    "\n",
    "$$\n",
    "\\begin{align}\n",
    "\\max 1-x\\\\\n",
    "\\text{s.t. }x\\in[0,1],\\ y=0\n",
    "\\end{align}\n",
    "= 1.\n",
    "$$\n",
    "\n",
    "Thus, \n",
    "\n",
    "$$\n",
    "z^{nadir}=(1,1)^T.\n",
    "$$"
   ]
  },
  {
   "cell_type": "markdown",
   "metadata": {
    "slideshow": {
     "slide_type": "slide"
    }
   },
   "source": [
    "# What means solving a multiobjective optimization problem?"
   ]
  },
  {
   "cell_type": "markdown",
   "metadata": {
    "slideshow": {
     "slide_type": "fragment"
    }
   },
   "source": [
    "* **Find all Pareto optimal solutions**\n",
    "  * As we learned in the previous lecture, there can be infinitely many Pareto optimal solutions for problems having real valued variables $\\rightarrow$ extremely difficult and possible only in some simple special cases"
   ]
  },
  {
   "cell_type": "markdown",
   "metadata": {
    "slideshow": {
     "slide_type": "fragment"
    }
   },
   "source": [
    "* **Find a set of solutions that approximate the set of all Pareto optimal solutions**\n",
    "  * How to evaluate the goodness of the approximation? (closeness, spread, ...)\n",
    "  * The number of solutions required for a good approximation grows exponentially with the number of objectives!\n",
    "  * Works well with two objectives and, in some cases, for three objectives"
   ]
  },
  {
   "cell_type": "markdown",
   "metadata": {
    "slideshow": {
     "slide_type": "fragment"
    }
   },
   "source": [
    "* **Find a solution/solutions that best satisfies the preferences of a decision maker**\n",
    "  * Usually, in practical problems, one solution has to be finally selected for further analysis\n",
    "  * Sometimes, more than one (but not that many) are needed $\\rightarrow$, e.g., choose the best design for different types of cars to be manufactured (small and economical sedan, spacious wagon, efficient sports model, etc.)\n",
    "  * does not depend on the number of objectives"
   ]
  },
  {
   "cell_type": "markdown",
   "metadata": {
    "slideshow": {
     "slide_type": "subslide"
    }
   },
   "source": [
    "If you want to know more about the topic of this lecture, I urge you to read Professor Miettinen's book Nonlinear Multiobjective Optimization\n",
    "\n",
    "![Nonlinear Multiobjective Optimization](images/Miettinen2.gif)"
   ]
  },
  {
   "cell_type": "markdown",
   "metadata": {
    "slideshow": {
     "slide_type": "subslide"
    }
   },
   "source": [
    "## Scalarization\n",
    "* One way to solve a multiobjective optimization problem is to convert it to a single objective subproblem whose solution is Pareto optimal for the original problem\n",
    "* The subproblem is called a *scalarization* and it can be solved by using a suitable single objective optimization method\n",
    "* By changing the values of the parameters in the scalarization, different (Pareto optimal) solutions can be computed"
   ]
  },
  {
   "cell_type": "markdown",
   "metadata": {
    "slideshow": {
     "slide_type": "slide"
    }
   },
   "source": [
    "## Classification of methods"
   ]
  },
  {
   "cell_type": "markdown",
   "metadata": {},
   "source": [
    "Methods for multiobjective optimization are often characterized by the involvement of the decision maker in the process."
   ]
  },
  {
   "cell_type": "markdown",
   "metadata": {},
   "source": [
    "The types of methods are\n",
    "* **no preference methods**, where the decision maker does not play a role,\n",
    "* **a priori methods**, where the decision maker gives his/her preference information at first and then the optimization method finds the best match to that preference information,\n",
    "* **a posteriori methods**, where the optimization methods try to characterize all/find a good representation of the Pareto optimal solutions and the decision maker chooses the most preferred one of those,\n",
    "* **interactive methods**, where the optimization method and the decision maker alternate in iterative search for the most preferred solution."
   ]
  },
  {
   "cell_type": "markdown",
   "metadata": {
    "slideshow": {
     "slide_type": "subslide"
    }
   },
   "source": [
    "## Multiple Criteria Decision Making (MCDM)\n",
    "* The related research field is called multiple criteria decision making\n",
    "* More information in the website of the <a href=\"http://www.mcdmsociety.org/\">International Society on MCDM</a>"
   ]
  },
  {
   "cell_type": "markdown",
   "metadata": {
    "slideshow": {
     "slide_type": "slide"
    }
   },
   "source": [
    "##  Our example problem for this lecture\n",
    "\n",
    "We study a hypothetical decision problem of buying a car, when you can choose to have a car with power between (denoted by $p$) 50 and 200 kW and average consumption (denoted by $c$) per 100 km between 3 and 10 l. However, in addition to the average consumption and power, you need to decide the volume of the cylinders (v), which may be between 1000 $cm^3$ and 4000 $cm^3$. Finally, the price of the car follows now a function \n",
    "\n",
    "$$\n",
    "P = \\left(\\sqrt{\\frac{p-50}{50}}\\\\\n",
    "+\\left(\\frac{p-50}{50}\\right)^2+0.3(10-c)\\\\ +10^{-5}\\left(v-\\left(1000+3000\\frac{p-50}{150}\\right)\\right)^2\\right)10000\\\\+5000\n",
    "$$\n",
    "\n",
    "in euros. This problem can be formulated as a multiobjective optimization problem\n",
    "\n",
    "$$\n",
    "\\begin{align}\n",
    "\\min \\quad & \\{c,-p,P\\},\\\\\n",
    "\\text{s.t. }\\quad\n",
    "&50\\leq p\\leq 200\\\\\n",
    "&3\\leq c\\leq 10\\\\\n",
    "&1000\\leq v\\leq 4000,\\\\\n",
    "\\end{align}\n",
    "$$"
   ]
  },
  {
   "cell_type": "code",
   "execution_count": 2,
   "metadata": {
    "slideshow": {
     "slide_type": "subslide"
    }
   },
   "outputs": [],
   "source": [
    "#Let us define a Python function which returns the value of this\n",
    "import math\n",
    "def car_problem(c,p,v):\n",
    "#    import pdb; pdb.set_trace()\n",
    "    return [#Objective function values\n",
    "        c,-p,\n",
    "        (math.sqrt((p-50.)/50.)+((p-50.)/50.)**2+\n",
    "        0.3*(10.-c)+0.00001*(v-(1000.+3000.*(p-50.)/150.))**2)*10000.\n",
    "        +5000.] "
   ]
  },
  {
   "cell_type": "code",
   "execution_count": 3,
   "metadata": {
    "scrolled": true
   },
   "outputs": [
    {
     "name": "stdout",
     "output_type": "stream",
     "text": [
      "Car with 3 l/100km consumption, 50kW and 1000cm^3 engine would cost 26000.0€\n",
      "Car with 3 l/100km consumption, 100kW and 2000cm^3 engine would cost 46000.0€\n",
      "Car with 3 l/100km consumption, 100kW and 1000cm^3 engine would cost 146000.0€\n"
     ]
    }
   ],
   "source": [
    "print(\"Car with 3 l/100km consumption, 50kW and 1000cm^3 engine would cost \"\n",
    "      +str(car_problem(3,50,1000)[2])+\"€\")\n",
    "print(\"Car with 3 l/100km consumption, 100kW and 2000cm^3 engine would cost \"\n",
    "      +str(car_problem(3,100,2000)[2])+\"€\")\n",
    "print(\"Car with 3 l/100km consumption, 100kW and 1000cm^3 engine would cost \"\n",
    "      +str(car_problem(3,100,1000)[2])+\"€\")"
   ]
  },
  {
   "cell_type": "markdown",
   "metadata": {
    "slideshow": {
     "slide_type": "slide"
    }
   },
   "source": [
    "## Normalization of the objectives"
   ]
  },
  {
   "cell_type": "markdown",
   "metadata": {},
   "source": [
    "**In many of the methods, the normalization of the objectives is necessary.**\n",
    "\n",
    "We can normalize the objectives using the nadir and ideal vectors and setting the normalized objective as\n",
    "$$ \\tilde f_i = \\frac{f_i-z_i^{ideal}}{z_i^{nadir}-z_i^{ideal}}$$"
   ]
  },
  {
   "cell_type": "markdown",
   "metadata": {
    "slideshow": {
     "slide_type": "slide"
    }
   },
   "source": [
    "## Calculating the ideal"
   ]
  },
  {
   "cell_type": "markdown",
   "metadata": {},
   "source": [
    "**Finding the ideal for problems is usually easy, if you can optimize the objective functions separately.**\n",
    "\n",
    "For the car problem, ideal can be computed easily using scipy:"
   ]
  },
  {
   "cell_type": "code",
   "execution_count": 6,
   "metadata": {},
   "outputs": [],
   "source": [
    "#Calculating the ideal\n",
    "from scipy.optimize import minimize\n",
    "import ad\n",
    "def calc_ideal(f):\n",
    "    ideal = [0]*3 #Because there are three objectives\n",
    "    solutions = [] #list for storing the actual solutions, which give the ideal\n",
    "    bounds = ((3,10),(50,200),(1000,4000)) #Bounds of the problem\n",
    "    starting_point = [3,50,1000]\n",
    "    for i in range(3):\n",
    "        res=minimize(\n",
    "            #Minimize each objective at the time\n",
    "            lambda x: f(x[0],x[1],x[2])[i], starting_point, method='SLSQP'\n",
    "            #Jacobian using automatic differentiation (note: SLSQP can estimate gradiants itself with some extra function evaluations)\n",
    "            ,jac=ad.gh(lambda x: f(x[0],x[1],x[2])[i])[0]\n",
    "            #bounds given above\n",
    "            ,bounds = bounds\n",
    "            ,options = {'disp':True, 'ftol': 1e-20, 'maxiter': 1000})\n",
    "        solutions.append(f(res.x[0],res.x[1],res.x[2]))\n",
    "        ideal[i]=res.fun\n",
    "    return ideal,solutions"
   ]
  },
  {
   "cell_type": "code",
   "execution_count": 7,
   "metadata": {},
   "outputs": [
    {
     "name": "stdout",
     "output_type": "stream",
     "text": [
      "Optimization terminated successfully    (Exit mode 0)\n",
      "            Current function value: 3.0\n",
      "            Iterations: 1\n",
      "            Function evaluations: 1\n",
      "            Gradient evaluations: 1\n",
      "Optimization terminated successfully    (Exit mode 0)\n",
      "            Current function value: -200.0\n",
      "            Iterations: 5\n",
      "            Function evaluations: 5\n",
      "            Gradient evaluations: 5\n",
      "Optimization terminated successfully    (Exit mode 0)\n",
      "            Current function value: 5000.0\n",
      "            Iterations: 4\n",
      "            Function evaluations: 3\n",
      "            Gradient evaluations: 3\n",
      "ideal is [3.0, -200.0, 5000.0]\n"
     ]
    }
   ],
   "source": [
    "ideal, solutions= calc_ideal(car_problem)\n",
    "print (\"ideal is \"+str(ideal))"
   ]
  },
  {
   "cell_type": "markdown",
   "metadata": {
    "slideshow": {
     "slide_type": "subslide"
    }
   },
   "source": [
    "## Pay-off table method\n",
    "\n",
    "**Finding the nadir value is, however, usually much more complicated..**\n",
    "\n",
    "Usually, the nadir value is estimated using the so-called pay-off table method.\n",
    "\n",
    "The pay-off table method does not guarantee finding the exact nadir for problems with more than two objectives. <!--(One of your exercises this week will be to show this.)--> \n",
    "\n",
    "The method is, however, a generally accepted way of approximating the nadir vector.\n",
    "\n",
    "In the pay-off table method:\n",
    "1. the objective values for attaining the individual minima are added to the table\n",
    "2. the nadir is estimated by each objective maxima in the table.\n",
    "3. the ideal values are located in the diagonal of the pay-off table"
   ]
  },
  {
   "cell_type": "markdown",
   "metadata": {},
   "source": [
    "![alt text](images/payoff.jpg \"Pay-off table\")"
   ]
  },
  {
   "cell_type": "markdown",
   "metadata": {},
   "source": [
    "### $x^{(*,i)} =$ optimal solution for $f_i$ "
   ]
  },
  {
   "cell_type": "markdown",
   "metadata": {
    "slideshow": {
     "slide_type": "subslide"
    }
   },
   "source": [
    "### The nadir for the car selection problem\n",
    "The table now becomes by using the *solutions* that we returned while calculating the ideal"
   ]
  },
  {
   "cell_type": "code",
   "execution_count": 8,
   "metadata": {},
   "outputs": [
    {
     "name": "stdout",
     "output_type": "stream",
     "text": [
      "[3.0, -50.0, 26000.0]\n",
      "[3.0, -200.0, 1033320.5080756888]\n",
      "[10.0, -50.0, 5000.0]\n"
     ]
    }
   ],
   "source": [
    "for solution in solutions:\n",
    "    print(solution) "
   ]
  },
  {
   "cell_type": "markdown",
   "metadata": {
    "slideshow": {
     "slide_type": "-"
    }
   },
   "source": [
    "Thus, the esimation of the nadir vector is \n",
    "$$(10,-50,1033320.5080756888)$$\n",
    "\n",
    "This is actually the real Nadir vector for this problem."
   ]
  },
  {
   "cell_type": "markdown",
   "metadata": {
    "slideshow": {
     "slide_type": "slide"
    }
   },
   "source": [
    "### Normalized car problem"
   ]
  },
  {
   "cell_type": "code",
   "execution_count": 9,
   "metadata": {
    "slideshow": {
     "slide_type": "-"
    }
   },
   "outputs": [],
   "source": [
    "#Let us define a Python function which returns the value of this\n",
    "import math\n",
    "def car_problem_normalized(c,p,v):\n",
    "    z_ideal = [3.0, -200.0, 5000]\n",
    "    z_nadir = [10,-50,1033320.5080756888]\n",
    "    z = car_problem(c,p,v) \n",
    "    return [(zi-zideali)/(znadiri-zideali) for \n",
    "            (zi,zideali,znadiri) in zip(z,z_ideal,z_nadir)]"
   ]
  },
  {
   "cell_type": "markdown",
   "metadata": {},
   "source": [
    "<a href=\"https://docs.python.org/3.3/library/functions.html#zip\">the zip function</a> in Python"
   ]
  },
  {
   "cell_type": "code",
   "execution_count": 10,
   "metadata": {
    "slideshow": {
     "slide_type": "subslide"
    }
   },
   "outputs": [
    {
     "name": "stdout",
     "output_type": "stream",
     "text": [
      "Normalized value of the car problem at (3,50,1000) is [0.0, 1.0, 0.020421648537670038]\n",
      "Normalized value of the car problem at (3,125,2500) is [0.0, 0.5, 0.054212133547970276]\n",
      "Normalized value of the car problem at (10,100,1000) is [1.0, 0.6666666666666666, 0.11669513450097163]\n"
     ]
    }
   ],
   "source": [
    "print(\"Normalized value of the car problem at (3,50,1000) is \"\n",
    "      +str(car_problem_normalized(3,50,1000)))\n",
    "print(\"Normalized value of the car problem at (3,125,2500) is \"\n",
    "      +str(car_problem_normalized(3,125,2500)))\n",
    "print(\"Normalized value of the car problem at (10,100,1000) is \"\n",
    "      +str(car_problem_normalized(10,100,1000)))"
   ]
  },
  {
   "cell_type": "markdown",
   "metadata": {},
   "source": [
    "**So, value 1 now indicates the worst value on the Pareto frontier and value 0 indicates the best values**"
   ]
  },
  {
   "cell_type": "markdown",
   "metadata": {
    "slideshow": {
     "slide_type": "subslide"
    }
   },
   "source": [
    "Let's set the ideal and nadir for later reference:"
   ]
  },
  {
   "cell_type": "code",
   "execution_count": 11,
   "metadata": {},
   "outputs": [],
   "source": [
    "z_ideal = [3.0, -200.0, 5000]\n",
    "z_nadir = [10.,-50,1033320.5080756888]"
   ]
  },
  {
   "cell_type": "markdown",
   "metadata": {},
   "source": [
    "**From now on, we will deal with the normalized problem, although, we write just $f$.** The aim of this is to simplify presentation."
   ]
  }
 ],
 "metadata": {
  "anaconda-cloud": {},
  "celltoolbar": "Slideshow",
  "kernelspec": {
   "display_name": "Python 3",
   "language": "python",
   "name": "python3"
  },
  "language_info": {
   "codemirror_mode": {
    "name": "ipython",
    "version": 3
   },
   "file_extension": ".py",
   "mimetype": "text/x-python",
   "name": "python",
   "nbconvert_exporter": "python",
   "pygments_lexer": "ipython3",
   "version": "3.8.8"
  }
 },
 "nbformat": 4,
 "nbformat_minor": 4
}
