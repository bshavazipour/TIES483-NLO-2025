{
 "cells": [
  {
   "attachments": {},
   "cell_type": "markdown",
   "metadata": {},
   "source": [
    "## Exercise 6\n",
    "* Due: 27.2. at 14:00\n",
    "* Max points: 10"
   ]
  },
  {
   "attachments": {},
   "cell_type": "markdown",
   "metadata": {},
   "source": [
    "## General rules\n",
    "* **Submit your answers by using Moodle.**,
    "* Name your file as *lastname_ex6.xxx*. If you have multiple files, use *lastname_ex6_1.xxx, lastname_ex6_2.xxx* etc.\n",
    "* **Remember to add comments to your answers and include also some testing parts!**"
   ]
  },
  {
   "attachments": {},
   "cell_type": "markdown",
   "metadata": {},
   "source": [
    "## Tasks\n",
    "\n",
    "1. **(2 points)** Study multiobjective optimization problem\n",
    "$$\n",
    "\\begin{align}\n",
    "\\min & \\{\\|x-(1,0)\\|^2,\\|x-(0,1)\\|^2\\}\\\\\n",
    "\\text{s.t. }&x\\in \\mathbb R^2.\n",
    "\\end{align}\n",
    "$$\n",
    "Characterize algebraically  (i.e. give a mathematical formulation) the full set of Pareto optimal solutions.\n",
    "\n",
    "\n",
    "2. **(2 points)** Calculate the ideal and nadir vectors for the above bi-objective problem. You can use any method available.\n",
    "\n",
    "3. **(2 points)** Consider the above multiobjective optimization problem. Try to generate a representative set of Pareto optimal solutions using the weighting method for the above bi-objective problem. Compare this set to the set of Pareto optimal solutions from task 1. What do you notice?\n",
    "\n",
    "4. **(4 points)** Show that (mathematically)\n",
    "\n",
    "  A. an optimal solution to the achievement scalarizing problem (follow the formulation mentioned in the lecture) is Pareto optimal, and\n",
    "\n",
    "  B. for all Pareto optimal solutions $x^*$, there exists a reference point such that $x^*$ is an optimal solution to the achievement scalarizing problem with $\\rho=0$ (i.e., without the augmentation term). \n",
    "\n"
   ]
  }
 ],
 "metadata": {
  "anaconda-cloud": {},
  "kernelspec": {
   "display_name": "Python [conda env:base] *",
   "language": "python",
   "name": "conda-base-py"
  },
  "language_info": {
   "codemirror_mode": {
    "name": "ipython",
    "version": 3
   },
   "file_extension": ".py",
   "mimetype": "text/x-python",
   "name": "python",
   "nbconvert_exporter": "python",
   "pygments_lexer": "ipython3",
   "version": "3.12.7"
  }
 },
 "nbformat": 4,
 "nbformat_minor": 4
}
