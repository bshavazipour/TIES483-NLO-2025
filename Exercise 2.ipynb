{
 "cells": [
  {
   "attachments": {},
   "cell_type": "markdown",
   "metadata": {},
   "source": [
    "# Exercise 2\n",
    "* Due: 30.1. at 14:00\n",
    "* Max points: 8"
   ]
  },
  {
   "attachments": {},
   "cell_type": "markdown",
   "metadata": {},
   "source": [
    "## General rules\n",
    "* **Submit your answers by using Moodle.** \n",
    "* Name your file as *lastname_ex2.xxx*. If you have multiple files, use *lastname_ex2_1.xxx, lastname_ex2_2.xxx* etc.\n",
    "* **Remember to add comments to your answers and include also some testing part!**\n",
    "* The exercises will be given on the previous Wednesday's lecture"
   ]
  },
  {
   "attachments": {},
   "cell_type": "markdown",
   "metadata": {
    "jp-MarkdownHeadingCollapsed": true
   },
   "source": [
    "## Tasks\n",
    "\n",
    "1. **(2 points)** Assume that you are buying and selling electricity. The more electricity you buy, the better price you get **per kwH** and the **buying price** of electricity follows function $f(x) = 1-0.01x$, where $0\\leq x\\leq50$ is the amount of electricity you buy. On the other hand, the **price** that you get from selling electricity **follows** function $g(x) = 2-0.01x^2$ with $x$ again the amount of electricity that you sell. Formulate an optimization problem that maximizes the profit.\n",
    "2. **(2 points)** Use bisection search to optimize problem\n",
    "$$\n",
    "\\begin{align}\n",
    "\\min & (1-x)^2+x\\\\\n",
    "\\text{s.t. }&x\\in [0,2].\n",
    "\\end{align}\n",
    "$$\n",
    "Code the search algorithm by yourself, not use the one shown in the lecture material.\n",
    "3. **(2 points)** Use the golden section search to optimize the problem from the above task (task 2). Code the search algorithm by yourself, not use the one shown in the lecture material.\n",
    "4. **(2 points)** Use differentiation/derivation to optimize the optimization problem of task 1 (above) and to verify the answer of optimization problem in task 2 (above).\n"
   ]
  }
 ],
 "metadata": {
  "anaconda-cloud": {},
  "kernelspec": {
   "display_name": "Python [conda env:base] *",
   "language": "python",
   "name": "conda-base-py"
  },
  "language_info": {
   "codemirror_mode": {
    "name": "ipython",
    "version": 3
   },
   "file_extension": ".py",
   "mimetype": "text/x-python",
   "name": "python",
   "nbconvert_exporter": "python",
   "pygments_lexer": "ipython3",
   "version": "3.12.7"
  }
 },
 "nbformat": 4,
 "nbformat_minor": 4
}
