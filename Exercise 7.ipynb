{
 "cells": [
  {
   "attachments": {},
   "cell_type": "markdown",
   "metadata": {},
   "source": [
    "## Exercise 7\n",
    "* Due: 9.3. at 23:59\n",
    "* Max points: 12"
   ]
  },
  {
   "attachments": {},
   "cell_type": "markdown",
   "metadata": {},
   "source": [
    "## General rules\n",
    "* **Submit your answers by using Moodle.** \n",
    "* Name your file as *lastname_ex7.xxx*. If you have multiple files, use *lastname_ex7_1.xxx, lastname_ex7_2.xxx* etc.\n",
    "* **Remember to add comments to your answers and include also some testing part!**"
   ]
  },
  {
   "attachments": {},
   "cell_type": "markdown",
   "metadata": {},
   "source": [
    "## Tasks\n",
    "\n",
    "1. **(2 points)** Think of a multiobjective optimization problem from your own life with at least three objectives. Model this problem using algebraic equations (decision variables, objective functions, constraints).\n",
    "\n",
    "\n",
    "2. **(10 points)** Use the DESDEO framework to create a problem object for your problem. Then, find the ideal and nadir vectors by using available tools in DESDEO. Finally, import the NIMBUS method, solve your problem, and find preferable solutions (with at least three iterations). Describe how you inputted your problem and what kind of preference information (i.e., classification of objectives) you used when computing improved solutions starting from the initial solution. Analyze the results (i.e., write what you think about the solutions found). \n",
    "\n",
    "Hint. See examples in the DESDEO paper https://ieeexplore.ieee.org/stamp/stamp.jsp?tp=&arnumber=9591595 ."
   ]
  }
 ],
 "metadata": {
  "anaconda-cloud": {},
  "kernelspec": {
   "display_name": "Python [conda env:base] *",
   "language": "python",
   "name": "conda-base-py"
  },
  "language_info": {
   "codemirror_mode": {
    "name": "ipython",
    "version": 3
   },
   "file_extension": ".py",
   "mimetype": "text/x-python",
   "name": "python",
   "nbconvert_exporter": "python",
   "pygments_lexer": "ipython3",
   "version": "3.12.7"
  }
 },
 "nbformat": 4,
 "nbformat_minor": 4
}
