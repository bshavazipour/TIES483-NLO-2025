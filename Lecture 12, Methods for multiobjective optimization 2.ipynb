{
 "cells": [
  {
   "cell_type": "code",
   "execution_count": 1,
   "metadata": {},
   "outputs": [
    {
     "data": {
      "text/html": [
       "<style>.container { width:95% !important; }</style>"
      ],
      "text/plain": [
       "<IPython.core.display.HTML object>"
      ]
     },
     "execution_count": 1,
     "metadata": {},
     "output_type": "execute_result"
    }
   ],
   "source": [
    "from IPython.core.display import HTML\n",
    "HTML(\"<style>.container { width:95% !important; }</style>\")"
   ]
  },
  {
   "cell_type": "markdown",
   "metadata": {
    "slideshow": {
     "slide_type": "slide"
    }
   },
   "source": [
    "# Lecture 12, Methods for multiobjective optimization-part 2"
   ]
  },
  {
   "cell_type": "markdown",
   "metadata": {
    "slideshow": {
     "slide_type": "slide"
    }
   },
   "source": [
    "##  Our example problem for this lecture\n",
    "\n",
    "We study a hypothetical decision problem of buying a car, when you can choose to have a car with power between (denoted by $p$) 50 and 200 kW and average consumption (denoted by $c$) per 100 km between 3 and 10 l. However, in addition to the average consumption and power, you need to decide the volume of the cylinders (v), which may be between 1000 $cm^3$ and 4000 $cm^3$. Finally, the price of the car follows now a function \n",
    "\n",
    "$$\n",
    "P = \\left(\\sqrt{\\frac{p-50}{50}}\\\\\n",
    "+\\left(\\frac{p-50}{50}\\right)^2+0.3(10-c)\\\\ +10^{-5}\\left(v-\\left(1000+3000\\frac{p-50}{150}\\right)\\right)^2\\right)10000\\\\+5000\n",
    "$$\n",
    "\n",
    "in euros. This problem can be formulated as a multiobjective optimization problem\n",
    "\n",
    "$$\n",
    "\\begin{align}\n",
    "\\min \\quad & \\{c,-p,P\\},\\\\\n",
    "\\text{s.t. }\\quad\n",
    "&50\\leq p\\leq 200\\\\\n",
    "&3\\leq c\\leq 10\\\\\n",
    "&1000\\leq v\\leq 4000,\\\\\n",
    "\\end{align}\n",
    "$$"
   ]
  },
  {
   "cell_type": "code",
   "execution_count": 2,
   "metadata": {
    "slideshow": {
     "slide_type": "subslide"
    }
   },
   "outputs": [],
   "source": [
    "#Let us define a Python function which returns the value of this\n",
    "import math\n",
    "def car_problem(c,p,v):\n",
    "#    import pdb; pdb.set_trace()\n",
    "    return [#Objective function values\n",
    "        c,-p,\n",
    "        (math.sqrt((p-50.)/50.)+((p-50.)/50.)**2+\n",
    "        0.3*(10.-c)+0.00001*(v-(1000.+3000.*(p-50.)/150.))**2)*10000.\n",
    "        +5000.] "
   ]
  },
  {
   "cell_type": "markdown",
   "metadata": {
    "slideshow": {
     "slide_type": "slide"
    }
   },
   "source": [
    "### Normalized car problem"
   ]
  },
  {
   "cell_type": "code",
   "execution_count": 3,
   "metadata": {
    "slideshow": {
     "slide_type": "-"
    }
   },
   "outputs": [],
   "source": [
    "#Let us define a Python function which returns the value of this\n",
    "import math\n",
    "def car_problem_normalized(c,p,v):\n",
    "    z_ideal = [3.0, -200.0, 5000]\n",
    "    z_nadir = [10,-50,1033320.5080756888]\n",
    "#    import pdb; pdb.set_trace()\n",
    "    z = car_problem(c,p,v) \n",
    "    return [(zi-zideali)/(znadiri-zideali) for \n",
    "            (zi,zideali,znadiri) in zip(z,z_ideal,z_nadir)]"
   ]
  },
  {
   "cell_type": "code",
   "execution_count": 4,
   "metadata": {},
   "outputs": [],
   "source": [
    "z_ideal = [3.0, -200.0, 5000]\n",
    "z_nadir = [10.,-50,1033320.5080756888]"
   ]
  },
  {
   "cell_type": "markdown",
   "metadata": {},
   "source": [
    "**From now on, we will deal with the normalized problem, although, we write just $f$.** The aim of this is to simplify presentation."
   ]
  },
  {
   "cell_type": "markdown",
   "metadata": {
    "slideshow": {
     "slide_type": "slide"
    }
   },
   "source": [
    "## No preference methods\n",
    "\n",
    "* Usually only for situations, where the decision maker is not available or does not want to get involved\n",
    "* These just compute a single Pareto optimal solution, which is in somehow mathematically thought as the best compromise\n",
    "\n",
    "## Notation\n",
    "\n",
    "For short, let us denote the feasible set as $S = \\{x\\in\\mathbb R^n: g_j(x) \\geq 0 \\text{ for all }j=1,\\ldots,J \\text{ and } h_k(x) = 0\\text{ for all }k=1,\\ldots,K\\}$."
   ]
  },
  {
   "cell_type": "markdown",
   "metadata": {
    "slideshow": {
     "slide_type": "subslide"
    }
   },
   "source": [
    "### Method of Global criterion\n",
    "\n",
    "Involved minimization of the p-norm of $f(x)-z^{ideal}$, that is we solve the problem\n",
    "\n",
    "$$\n",
    "\\min_{x\\in S} \\|f(x) - z^{ideal}\\|_p\n",
    "$$\n",
    "\n",
    "![alt text](images/mgc.svg \"Method of global criterion\")\n",
    "\n",
    "**An optimal solution to this problem is Pareto optimal**"
   ]
  },
  {
   "cell_type": "markdown",
   "metadata": {
    "slideshow": {
     "slide_type": "subslide"
    }
   },
   "source": [
    "### Applying to our problem studied\n"
   ]
  },
  {
   "cell_type": "code",
   "execution_count": 5,
   "metadata": {},
   "outputs": [],
   "source": [
    "import numpy as np\n",
    "from scipy.optimize import minimize\n",
    "import ad\n",
    "def global_criterion_method(f,p):\n",
    "    #Ideal for any normalized problem is (0,0,0)\n",
    "    ideal = [0,0,0]\n",
    "    bounds = ((3,10),(50,200),(1000,4000)) #Variable bounds of the problem\n",
    "    #Objective is the norm of objective function values minus\n",
    "    #the ideal\n",
    "    obj = lambda x: np.linalg.norm(np.array(f(x[0],x[1],x[2]))\n",
    "                                   -np.array(ideal),ord=p)\n",
    "    start = [7,125,2500] #starting values for the variables\n",
    "    res=minimize(\n",
    "            #Minimize p distance from the ideal\n",
    "            obj, start, method='SLSQP'\n",
    "            #Jacobian using automatic differentiation\n",
    "            ,jac=ad.gh(obj)[0]\n",
    "            #bounds given above\n",
    "            ,bounds = bounds,options = {'disp':True})\n",
    "    return res.x"
   ]
  },
  {
   "cell_type": "code",
   "execution_count": 7,
   "metadata": {
    "slideshow": {
     "slide_type": "subslide"
    }
   },
   "outputs": [
    {
     "name": "stdout",
     "output_type": "stream",
     "text": [
      "Optimization terminated successfully    (Exit mode 0)\n",
      "            Current function value: 0.2550330331982373\n",
      "            Iterations: 13\n",
      "            Function evaluations: 22\n",
      "            Gradient evaluations: 13\n",
      "variable values are  [   3.02944133  176.80589468 2500.00083783]\n",
      "objective values are  [3.029441328653617, -176.8058946793659, 213509.66458173335]\n"
     ]
    }
   ],
   "source": [
    "degree = 2\n",
    "solution = global_criterion_method(car_problem_normalized,\n",
    "                                           degree)\n",
    "print(\"variable values are \",solution)\n",
    "f_global_criterion = car_problem(solution[0],solution[1],solution[2])\n",
    "print(\"objective values are \",f_global_criterion)\n"
   ]
  },
  {
   "cell_type": "code",
   "execution_count": 9,
   "metadata": {},
   "outputs": [],
   "source": [
    "#help (np.linalg.norm)\n"
   ]
  },
  {
   "cell_type": "code",
   "execution_count": 10,
   "metadata": {},
   "outputs": [
    {
     "name": "stdout",
     "output_type": "stream",
     "text": [
      "Optimization terminated successfully    (Exit mode 0)\n",
      "            Current function value: 0.18028203269723292\n",
      "            Iterations: 26\n",
      "            Function evaluations: 69\n",
      "            Gradient evaluations: 26\n",
      "variable values are  [   4.25892988  172.95999244 2500.00213198]\n",
      "objective values are  [4.258929879857968, -172.95999243905936, 190387.71146013652]\n"
     ]
    }
   ],
   "source": [
    "solution = global_criterion_method(car_problem_normalized,\n",
    "                                           np.inf)\n",
    "print(\"variable values are \",solution) \n",
    "f_global_criterion = car_problem(solution[0],solution[1],solution[2])\n",
    "print(\"objective values are \",f_global_criterion)\n"
   ]
  },
  {
   "cell_type": "markdown",
   "metadata": {
    "slideshow": {
     "slide_type": "slide"
    }
   },
   "source": [
    "## A posteriori methods\n",
    "\n",
    "* A posteriori methods generate a representation of the Pareto optimal solutions, or the complete set of Pareto optimal solutions\n",
    "* Benefits\n",
    "  * The solutions can be visualized for problems with 2 or 3 objectives so the decision making is possible\n",
    "  * When succesful, they give an understanding of the Pareto front\n",
    "* Drawbacks\n",
    "  * Approximating the Pareto optimal set often time-consuming\n",
    "  * Decision making from a large representation may be very difficut"
   ]
  },
  {
   "cell_type": "markdown",
   "metadata": {
    "slideshow": {
     "slide_type": "subslide"
    }
   },
   "source": [
    "\n",
    "### The weighting method\n",
    "\n",
    "Based on solving optimization problem\n",
    "$$\n",
    "\\min_{x\\in S} \\sum_{i=1}^kw_if_i(x)\n",
    "$$\n",
    "for different weights $w_i\\geq0$, $i=1,\\ldots,k$ such that $\\sum_{i=1}^k w_i=1$. \n",
    "\n",
    "**The idea is to generate weights evenly and then have evenly spread solutions.**\n",
    "\n",
    "**An optimal solution of the weighted problem is Pareto optimal, if all the weights $w_i$ are $>0$.**\n",
    "\n",
    "![alt text](images/ws.svg \"Weighting method\")"
   ]
  },
  {
   "cell_type": "markdown",
   "metadata": {
    "slideshow": {
     "slide_type": "subslide"
    }
   },
   "source": [
    "### Application to our problem"
   ]
  },
  {
   "cell_type": "code",
   "execution_count": 11,
   "metadata": {},
   "outputs": [],
   "source": [
    "import numpy as np\n",
    "def weighting_method(f,w):\n",
    "    points = []\n",
    "    bounds = ((3,10),(50,200),(1000,4000)) #variable bounds of the problem\n",
    "    start = [7,125,2500] #starting values for the variables \n",
    "    for wi in w:\n",
    "        res=minimize(\n",
    "            #weighted sum\n",
    "            lambda x: sum(np.array(wi)*np.array(f(x[0],x[1],x[2]))), \n",
    "            start, method='SLSQP'\n",
    "            #Jacobian using automatic differentiation\n",
    "            ,jac=ad.gh(lambda x: sum(np.array(wi)*np.array(f(x[0],x[1],x[2]))))[0]\n",
    "            #bounds given above\n",
    "            ,bounds = bounds,options = {'disp':False})\n",
    "        points.append(res.x)\n",
    "    return points"
   ]
  },
  {
   "cell_type": "code",
   "execution_count": 24,
   "metadata": {},
   "outputs": [],
   "source": [
    "w = np.random.random ((2000,3)) #500 random weights "
   ]
  },
  {
   "cell_type": "code",
   "execution_count": null,
   "metadata": {},
   "outputs": [],
   "source": [
    "help(np.random.random) "
   ]
  },
  {
   "cell_type": "code",
   "execution_count": 25,
   "metadata": {
    "slideshow": {
     "slide_type": "subslide"
    }
   },
   "outputs": [],
   "source": [
    "# normalize the weights\n",
    "wn = w\n",
    "for i in range(len(w)):\n",
    "    s = sum(w[i])\n",
    "    for j in range(2):\n",
    "        wn[i][j] = w[i][j]/s"
   ]
  },
  {
   "cell_type": "code",
   "execution_count": 15,
   "metadata": {},
   "outputs": [],
   "source": [
    "#print(wn)"
   ]
  },
  {
   "cell_type": "code",
   "execution_count": 26,
   "metadata": {},
   "outputs": [],
   "source": [
    "repr = weighting_method(car_problem_normalized,wn)"
   ]
  },
  {
   "cell_type": "code",
   "execution_count": 27,
   "metadata": {
    "slideshow": {
     "slide_type": "subslide"
    }
   },
   "outputs": [],
   "source": [
    "import matplotlib.pyplot as plt\n",
    "from mpl_toolkits.mplot3d import Axes3D\n",
    "def visualize_representation(func,repr):\n",
    "    f_repr = [func(repri[0],repri[1],repri[2]) for repri in repr]\n",
    "    print(min(f_repr))\n",
    "    print(max(f_repr))\n",
    "    fig = plt.figure()\n",
    "    ax = fig.add_subplot(111, projection='3d')\n",
    "    ax.scatter([f[0] for f in f_repr],[f[1] for f in f_repr],[f[2] for f in f_repr])\n",
    "    return plt"
   ]
  },
  {
   "cell_type": "code",
   "execution_count": 28,
   "metadata": {},
   "outputs": [
    {
     "name": "stdout",
     "output_type": "stream",
     "text": [
      "[3.0, -200.0, 358299.26592818653]\n",
      "[10.0, -141.80407525549072, 63555.215818584475]\n"
     ]
    },
    {
     "data": {
      "image/png": "[encoded data removed]",
      "text/plain": [
       "<Figure size 432x288 with 1 Axes>"
      ]
     },
     "metadata": {
      "needs_background": "light"
     },
     "output_type": "display_data"
    }
   ],
   "source": [
    "visualize_representation(car_problem,repr).show()"
   ]
  },
  {
   "cell_type": "markdown",
   "metadata": {
    "slideshow": {
     "slide_type": "slide"
    }
   },
   "source": [
    "### Epsilon-constraint method\n",
    "\n"
   ]
  },
  {
   "cell_type": "markdown",
   "metadata": {},
   "source": [
    "Based on solving optimization problem\n",
    "\n",
    "$$\n",
    "\\begin{align}\n",
    "\\min \\quad &f_j(x)\\\\\n",
    "\\text{s.t. }\\quad &x\\in S\\\\\n",
    "&f_i(x)\\leq \\epsilon_i \\text{ for all }i\\neq j\n",
    "\\end{align}\n",
    "$$\n",
    "\n",
    "for different bounds $\\epsilon_i, i\\neq j$. \n",
    "\n",
    "* In other words, select one of the objectives ($f_j$) to be optimized and convert others as constraints by giving them an upper bound ($f_i(x)\\leq \\epsilon_i$).\n",
    "\n",
    "* Different PO solutions can be obtained by changing the bounds and/or the objective to be optimized!"
   ]
  },
  {
   "cell_type": "markdown",
   "metadata": {
    "slideshow": {
     "slide_type": "subslide"
    }
   },
   "source": [
    "**The idea is to generate $\\epsilon$ evenly within the bounds of the ideal and nadir vectors and then have evenly spread solutions.**\n",
    "\n",
    "**A solution $x^*$ is Pareto optimal, if it is the solution to the epsilon constraint problem for all $j=1,\\ldots,k$ and $\\epsilon = f(x^*)$.**\n",
    "\n",
    "![alt text](images/eps.svg \"Epsilon constraint method\")"
   ]
  },
  {
   "cell_type": "markdown",
   "metadata": {
    "slideshow": {
     "slide_type": "subslide"
    }
   },
   "source": [
    "### Ilustrative example \n",
    "\n",
    "PO solutions for different upper bounds for $𝑓_2$.\n",
    "![](images/eg-epsilon-constraint.jpg)\n",
    "\n",
    "$$\n",
    "𝜖_1 → \\text{no solutions}\\\\\n",
    "𝜖_2 → 𝐳^2\\\\\n",
    "𝜖_3 → 𝐳^3\\\\\n",
    "𝜖_4 → 𝐳^4\n",
    "$$"
   ]
  },
  {
   "cell_type": "markdown",
   "metadata": {
    "slideshow": {
     "slide_type": "subslide"
    }
   },
   "source": [
    "### Application to our problem"
   ]
  },
  {
   "cell_type": "code",
   "execution_count": 29,
   "metadata": {},
   "outputs": [],
   "source": [
    "import numpy as np\n",
    "from scipy.optimize import minimize\n",
    "import ad\n",
    "def e_constraint_method(f,eps,z_ideal,z_nadir):\n",
    "    points = []\n",
    "    start = [7,125,2500]\n",
    "    for epsi in eps:\n",
    "        bounds = ((3,epsi[0]*(z_nadir[0]-z_ideal[0])+z_ideal[0]), # f1(x) = (c-z1^ideal)/(z1^nadir-z1^ideal) <= eps_1\n",
    "                  (-1.*(epsi[1]*(z_nadir[1]-z_ideal[1])+z_ideal[1]), # f2(x) = (-p-z2^ideal)/(z2^nadir-z2^ideal) <= eps_2\n",
    "                   200),(1000,4000)) #Added bounds for two first objectives\n",
    "        res=minimize(\n",
    "            #minimize the third objective = Price\n",
    "            lambda x: f(x[0],x[1],x[2])[2], \n",
    "            start, method='SLSQP'\n",
    "            #Jacobian using automatic differentiation\n",
    "            ,jac=ad.gh(lambda x: f(x[0],x[1],x[2])[2])[0]\n",
    "            #bounds given above\n",
    "            ,bounds = bounds,options = {'disp':False})\n",
    "        if res.success:\n",
    "            points.append(res.x)\n",
    "    return points"
   ]
  },
  {
   "cell_type": "code",
   "execution_count": 30,
   "metadata": {},
   "outputs": [],
   "source": [
    "eps = np.random.random((500,2))\n",
    "repr_eps = e_constraint_method(car_problem_normalized,eps,z_ideal,z_nadir)"
   ]
  },
  {
   "cell_type": "code",
   "execution_count": 31,
   "metadata": {
    "slideshow": {
     "slide_type": "subslide"
    }
   },
   "outputs": [],
   "source": [
    "import matplotlib.pyplot as plt\n",
    "from mpl_toolkits.mplot3d import Axes3D\n",
    "def visualize_representation(func,repr):\n",
    "    f_repr = [func(repri[0],repri[1],repri[2]) for repri in repr]\n",
    "    print(min(f_repr))\n",
    "    print(max(f_repr))\n",
    "    fig = plt.figure()\n",
    "    ax = fig.add_subplot(111, projection='3d')\n",
    "    ax.scatter([f[0] for f in f_repr],[f[1] for f in f_repr],[f[2] for f in f_repr])\n",
    "    return plt"
   ]
  },
  {
   "cell_type": "code",
   "execution_count": 32,
   "metadata": {},
   "outputs": [
    {
     "name": "stdout",
     "output_type": "stream",
     "text": [
      "[3.0019773424358953, -170.83644998890665, 183984.8966979858]\n",
      "[9.994060805024395, -124.40087377985101, 39372.56790062736]\n"
     ]
    },
    {
     "data": {
      "image/png": "[encoded data removed]",
      "text/plain": [
       "<Figure size 432x288 with 1 Axes>"
      ]
     },
     "metadata": {
      "needs_background": "light"
     },
     "output_type": "display_data"
    }
   ],
   "source": [
    "visualize_representation(car_problem,repr_eps).show()"
   ]
  },
  {
   "cell_type": "markdown",
   "metadata": {
    "slideshow": {
     "slide_type": "slide"
    }
   },
   "source": [
    "## Comparison of the weighted sum method and the epsilon constraint method"
   ]
  },
  {
   "cell_type": "code",
   "execution_count": 33,
   "metadata": {},
   "outputs": [],
   "source": [
    "import numpy as np\n",
    "def weighting_method(f,w):\n",
    "    points = []\n",
    "    bounds = ((3,10),(50,200),(1000,4000)) #Bounds of the problem\n",
    "    start = [7,125,2500]\n",
    "    for wi in w:\n",
    "        res=minimize(\n",
    "            #weighted sum\n",
    "            lambda x: sum(np.array(wi)*np.array(f(x[0],x[1],x[2]))), \n",
    "            start, method='SLSQP'\n",
    "            #Jacobian using automatic differentiation\n",
    "            ,jac=ad.gh(lambda x: sum(np.array(wi)*np.array(f(x[0],x[1],x[2]))))[0]\n",
    "            #bounds given above\n",
    "            ,bounds = bounds,options = {'disp':False})\n",
    "        points.append(res.x)\n",
    "    return points"
   ]
  },
  {
   "cell_type": "code",
   "execution_count": 34,
   "metadata": {},
   "outputs": [],
   "source": [
    "w = np.random.random((500,3)) #500 random weights\n",
    "wn = w # normalized weights\n",
    "for i in range(len(w)):\n",
    "    s = sum(w[i])\n",
    "    for j in range(3):\n",
    "        wn[i][j] = w[i][j]/s\n",
    "repr_ws = weighting_method(car_problem_normalized,wn)\n",
    "#repr_ws = weighting_method(car_problem_normalized,w)"
   ]
  },
  {
   "cell_type": "code",
   "execution_count": 35,
   "metadata": {},
   "outputs": [
    {
     "name": "stdout",
     "output_type": "stream",
     "text": [
      "[3.0, -200.0, 358296.9859850658]\n",
      "[10.0, -200.0, 337316.9730102253]\n"
     ]
    },
    {
     "data": {
      "image/png": "[encoded data removed]",
      "text/plain": [
       "<Figure size 432x288 with 1 Axes>"
      ]
     },
     "metadata": {
      "needs_background": "light"
     },
     "output_type": "display_data"
    }
   ],
   "source": [
    "visualize_representation(car_problem,repr_ws).show()"
   ]
  },
  {
   "cell_type": "code",
   "execution_count": 36,
   "metadata": {
    "slideshow": {
     "slide_type": "subslide"
    }
   },
   "outputs": [],
   "source": [
    "import matplotlib.pyplot as plt\n",
    "from mpl_toolkits.mplot3d import Axes3D\n",
    "def visualize_two_representations(func,repr1,repr2):\n",
    "    f_repr_1 = [func(repr1i[0],repr1i[1],repr1i[2]) for repr1i in repr1]\n",
    "    f_repr_2 = [func(repr2i[0],repr2i[1],repr2i[2]) for repr2i in repr2]\n",
    "    fig = plt.figure()\n",
    "    ax = fig.add_subplot(111, projection='3d')\n",
    "    #Mark solutions to epsilon constsraint problem using crosses\n",
    "    ax.scatter([f[0] for f in f_repr_1],[f[1] for f in f_repr_1],\n",
    "               [f[2] for f in f_repr_1],marker='x')\n",
    "    #Mark solutions to weighted sum problem using dots\n",
    "    ax.scatter([f[0] for f in f_repr_2],[f[1] for f in f_repr_2],\n",
    "               [f[2] for f in f_repr_2],marker='o')\n",
    "    return plt"
   ]
  },
  {
   "cell_type": "code",
   "execution_count": 37,
   "metadata": {},
   "outputs": [
    {
     "data": {
      "image/png": "[encoded data removed]",
      "text/plain": [
       "<Figure size 432x288 with 1 Axes>"
      ]
     },
     "metadata": {
      "needs_background": "light"
     },
     "output_type": "display_data"
    }
   ],
   "source": [
    "visualize_two_representations(car_problem,repr_eps,repr_ws).show()"
   ]
  },
  {
   "cell_type": "markdown",
   "metadata": {
    "slideshow": {
     "slide_type": "fragment"
    }
   },
   "source": [
    "**The weighting method can find all the Pareto optimal solutions only, when the objective functions are convex and the feasible set $S$ is convex.** \n",
    "\n",
    "**The weighting method can produce very unevenly spread Pareto optimal solutions, even when the problem is convex.** \n",
    "\n",
    "**The epsilon constraint method, however, adds constraints to the problem, which may make it much harder to solve**"
   ]
  },
  {
   "cell_type": "markdown",
   "metadata": {
    "slideshow": {
     "slide_type": "slide"
    }
   },
   "source": [
    "## Note\n",
    "During the last 25 years, evolutionary multiobjective optimization (EMO) approaches have become popular in multiobjective optimization. They\n",
    "* operate on a population of solutions and their aim is to generate an approximation of the whole Pareto front (the set of all Pareto optimal solutions in the objective space),\n",
    "* are very efficient in solving problems with 2-3 objective functions although they typically use a large number of function evaluations,\n",
    "* are recently extended to work more efficiently for problems with more than 3 objective functions.\n",
    "\n",
    "During the last 10 years, decision maker preferences are incorporated to the EMO algorithms to 1) improve convergence and 2) find solutions that are preferred by the decision maker.\n",
    "* You can learn more about these approaches in the courses \n",
    "<a href=\"https://sisu.jyu.fi/student/courseunit/otm-7a7171d1-1009-467e-b037-1de12dc2db28/brochure\">TIES5830 Data-driven optimization and decision making</a>, \n",
    "<a href=\"https://sisu.jyu.fi/student/courseunit/otm-25b61f76-3073-4989-828a-4014a884bb57/brochure\">TIES451 Selected topics in soft computing</a> and <a href=\"https://sisu.jyu.fi/student/courseunit/otm-60d8b06e-80be-4633-ab05-f132f37f32d3/brochure\">TIES598 Nonlinear Multiobjective Optimization</a>\n"
   ]
  },
  {
   "cell_type": "markdown",
   "metadata": {
    "slideshow": {
     "slide_type": "slide"
    }
   },
   "source": [
    "## A priori methods\n",
    "\n",
    "* A priori methods ask for preferences from the decision maker, and then find the Pareto optimal solution that best matches these preferences\n",
    "* Benefits\n",
    "  * If the decision maker knows what he/she wants and understands the preference information asked for, then application is fast\n",
    "* Drawbacks\n",
    "  * The decision maker may not know what he/she wants, because he does not know the Pareto optimal solutions\n",
    "  * The decision maker may not understand how the preferences he/she gives affect the solutions found"
   ]
  },
  {
   "cell_type": "markdown",
   "metadata": {
    "slideshow": {
     "slide_type": "slide"
    }
   },
   "source": [
    "## Achievement scalarizing problem\n",
    "\n",
    "There are multiple versions of the achievement scalarizing problem, but all of them are based on a refence point.\n",
    "\n",
    "A reference point\n",
    "$$z^{ref} = (z^{ref}_1,\\ldots,z^{ref}_k)$$\n",
    "contains preferable values (so-called aspiration levels) for the objectives.\n",
    "\n"
   ]
  },
  {
   "cell_type": "markdown",
   "metadata": {
    "slideshow": {
     "slide_type": "subslide"
    }
   },
   "source": [
    "Then the achievement scalarizing problem maps this point and a feasible solution to the multiobjective problem to a scalar (i.e., scalarizes it). One of the most commonly used is\n",
    "\n",
    "$$\n",
    "\\min_{x\\in S}\\left( \\max_{i=1}^k[f_i(x)-z_i^{ref}] +\\rho\\sum_{i=1}^kf_i(x)\\right)\n",
    "$$\n",
    "\n",
    "where $\\rho>0$ is a small value. The second part is called an augmentation term.\n",
    "\n",
    "**The solution to the problem is guaranteed to be Pareto optimal**\n",
    "\n",
    "**Any (properly) Pareto optimal solution can be found with some reference point**\n",
    "\n",
    "![alt text](images/ach.svg \"Achievement scalarizing method\")"
   ]
  },
  {
   "cell_type": "markdown",
   "metadata": {
    "slideshow": {
     "slide_type": "subslide"
    }
   },
   "source": [
    "### Application to our car problem"
   ]
  },
  {
   "cell_type": "code",
   "execution_count": 38,
   "metadata": {},
   "outputs": [],
   "source": [
    "import numpy as np\n",
    "from scipy.optimize import minimize\n",
    "import ad\n",
    "def asf(f,ref,z_ideal,z_nadir,rho):\n",
    "    bounds = ((3,10),(50,200),(1000,4000)) #Bounds of the problem\n",
    "    #Normalizing the reference point\n",
    "    ref_norm = [(refi-z_ideali)/(z_nadiri-z_ideali) \n",
    "                for (refi,z_ideali,z_nadiri) in zip(ref,z_ideal,z_nadir)]\n",
    "    def obj(x):\n",
    "        return np.max(np.array(f(x[0],x[1],x[2]))-ref_norm)\\\n",
    "           +rho*np.sum(f(x[0],x[1],x[2]))\n",
    "    start = [7,125,2500]\n",
    "    res=minimize(\n",
    "        #Objective function defined above\n",
    "        obj, \n",
    "        start, method='SLSQP'\n",
    "        #Jacobian using automatic differentiation\n",
    "        ,jac=ad.gh(obj)[0]\n",
    "        #bounds given above\n",
    "        ,bounds = bounds,options = {'disp':True, 'ftol': 1e-20,\n",
    "                                    'maxiter': 1000})\n",
    "    return res"
   ]
  },
  {
   "cell_type": "code",
   "execution_count": 40,
   "metadata": {},
   "outputs": [
    {
     "name": "stdout",
     "output_type": "stream",
     "text": [
      "Optimization terminated successfully    (Exit mode 0)\n",
      "            Current function value: 0.04018343616664766\n",
      "            Iterations: 576\n",
      "            Function evaluations: 2254\n",
      "            Gradient evaluations: 576\n",
      "Solution is  [   7.28102109  183.97260639 3679.77598807]\n",
      "Objective function values are  [7.2810210871227135, -183.97260638874673, 101320.61640464087]\n",
      "[3.0, -200.0, 5000]\n"
     ]
    }
   ],
   "source": [
    "rho = 0.000001\n",
    "#The reference point for the problem\n",
    "ref =  [7,-190,60000] #To be added at the class\n",
    "#ref =  z_ideal\n",
    "res = asf(car_problem_normalized,ref,z_ideal,z_nadir,rho)\n",
    "print(\"Solution is \",res.x)\n",
    "print(\"Objective function values are \",car_problem(res.x[0],res.x[1],res.x[2]))\n",
    "print(z_ideal)"
   ]
  },
  {
   "cell_type": "markdown",
   "metadata": {
    "slideshow": {
     "slide_type": "slide"
    }
   },
   "source": [
    "## Interactive methods\n",
    "\n",
    "* Interactive methods iteratively search for the preferred solution with decision maker and optimization alternating\n",
    "* Benefits\n",
    "  * Decision maker gets to learn about\n",
    "    * the available solutions, and\n",
    "    * how preferences affect the solutions found\n",
    "  * Computation is less intensive, because no need to generate a large representation of Pareto optimal solutions\n",
    "* Drawbacks\n",
    "  * Needs active involvement from the decision maker\n",
    "  * If the problem is computationally expensive, then the decision maker may need to wait a long time between solutions\n"
   ]
  }
 ],
 "metadata": {
  "anaconda-cloud": {},
  "celltoolbar": "Slideshow",
  "kernelspec": {
   "display_name": "Python [conda env:base] *",
   "language": "python",
   "name": "conda-base-py"
  },
  "language_info": {
   "codemirror_mode": {
    "name": "ipython",
    "version": 3
   },
   "file_extension": ".py",
   "mimetype": "text/x-python",
   "name": "python",
   "nbconvert_exporter": "python",
   "pygments_lexer": "ipython3",
   "version": "3.12.7"
  }
 },
 "nbformat": 4,
 "nbformat_minor": 4
}
